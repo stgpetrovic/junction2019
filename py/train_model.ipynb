{
  "nbformat": 4,
  "nbformat_minor": 0,
  "metadata": {
    "colab": {
      "name": "junction.ipynb",
      "provenance": [],
      "collapsed_sections": []
    },
    "kernelspec": {
      "name": "python3",
      "display_name": "Python 3"
    }
  },
  "cells": [
    {
      "cell_type": "code",
      "metadata": {
        "id": "TWtaJ8m_nKe_",
        "colab_type": "code",
        "outputId": "f7ce4a40-6a77-4244-8150-08dacc2b8fbe",
        "colab": {
          "resources": {
            "http://localhost:8080/nbextensions/google.colab/files.js": {
              "data": "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",
              "ok": true,
              "headers": [
                [
                  "content-type",
                  "application/javascript"
                ]
              ],
              "status": 200,
              "status_text": ""
            }
          },
          "base_uri": "https://localhost:8080/",
          "height": 75
        }
      },
      "source": [
        "from google.colab import files\n",
        "_ = files.upload()"
      ],
      "execution_count": 3,
      "outputs": [
        {
          "output_type": "display_data",
          "data": {
            "text/html": [
              "\n",
              "     <input type=\"file\" id=\"files-1d8e8269-c0c1-4cce-87d2-5b0b9851ec94\" name=\"files[]\" multiple disabled />\n",
              "     <output id=\"result-1d8e8269-c0c1-4cce-87d2-5b0b9851ec94\">\n",
              "      Upload widget is only available when the cell has been executed in the\n",
              "      current browser session. Please rerun this cell to enable.\n",
              "      </output>\n",
              "      <script src=\"/nbextensions/google.colab/files.js\"></script> "
            ],
            "text/plain": [
              "<IPython.core.display.HTML object>"
            ]
          },
          "metadata": {
            "tags": []
          }
        },
        {
          "output_type": "stream",
          "text": [
            "Saving item_stats_smaller_filtered.csv to item_stats_smaller_filtered (2).csv\n"
          ],
          "name": "stdout"
        }
      ]
    },
    {
      "cell_type": "code",
      "metadata": {
        "id": "QqODd9XtG5b3",
        "colab_type": "code",
        "colab": {}
      },
      "source": [
        "FILENAME = 'item_stats_smaller_filtered.csv'\n",
        "#os.remove(FILENAME)"
      ],
      "execution_count": 0,
      "outputs": []
    },
    {
      "cell_type": "code",
      "metadata": {
        "id": "X2ih3y7TnMWr",
        "colab_type": "code",
        "colab": {}
      },
      "source": [
        "import os\n",
        "import pandas as pd\n",
        "import numpy as np"
      ],
      "execution_count": 0,
      "outputs": []
    },
    {
      "cell_type": "code",
      "metadata": {
        "id": "9HYlSlL2oQyW",
        "colab_type": "code",
        "colab": {}
      },
      "source": [
        "df = pd.read_csv(FILENAME)\n",
        "df = df.set_index('ean')"
      ],
      "execution_count": 0,
      "outputs": []
    },
    {
      "cell_type": "code",
      "metadata": {
        "id": "t4AeGvl5ibkF",
        "colab_type": "code",
        "colab": {
          "base_uri": "https://localhost:8080/",
          "height": 92
        },
        "outputId": "90495c66-f59b-41f7-c272-476ee85c495c"
      },
      "source": [
        "total = df['total']\n",
        "df['easy0_frac'] = df['easy0'] / df['total']\n",
        "df['easy2_frac'] = df['easy2'] / df['total']\n",
        "df['qual0_frac'] = df['qual0'] / df['total']\n",
        "df['qual2_frac'] = df['qual2'] / df['total']\n",
        "easy0_frac = df['easy0_frac']\n",
        "easy2_frac = df['easy2_frac']\n",
        "qual0_frac = df['qual0_frac']\n",
        "qual2_frac = df['qual2_frac']\n",
        "df['badness'] = 0.0 + easy2_frac * qual0_frac\n",
        "df['goodness'] = 0.0 + easy0_frac * qual2_frac\n",
        "badness = df['badness']\n",
        "goodness = df['goodness']\n",
        "#df_small = df[df['kcal_per_100g'] > 0][df['pic_url'].notnull()][badness > 0.01].sample(n=100)\n",
        "df_small = df[df['kcal_per_100g'] > 0][df['pic_url'].notnull()][goodness > 0.24].sample(n=100)\n",
        "the_list = []\n",
        "for ean, pic_url in zip(df_small.index, df_small['pic_url']):\n",
        "  #print(ean, pic_url)\n",
        "  the_list.append([ean, pic_url, 'https://www.k-ruoka.fi/kauppa/tuote/{}'.format(ean), None])\n",
        "print(the_list)"
      ],
      "execution_count": 329,
      "outputs": [
        {
          "output_type": "stream",
          "text": [
            "[[6411200103271, 'https://k-file-storage-qa.imgix.net/f/k-ruoka/product/6411200103271', 'https://www.k-ruoka.fi/kauppa/tuote/6411200103271', None], [7322550052708, 'https://k-file-storage-qa.imgix.net/f/k-ruoka/product/7322550052708', 'https://www.k-ruoka.fi/kauppa/tuote/7322550052708', None], [6430104921576, 'https://k-file-storage-qa.imgix.net/f/k-ruoka/product/6430104921576', 'https://www.k-ruoka.fi/kauppa/tuote/6430104921576', None], [5201194003012, 'https://k-file-storage-qa.imgix.net/f/k-ruoka/product/5201194003012', 'https://www.k-ruoka.fi/kauppa/tuote/5201194003012', None], [7350068294099, 'https://k-file-storage-qa.imgix.net/f/k-ruoka/product/7350068294099', 'https://www.k-ruoka.fi/kauppa/tuote/7350068294099', None], [6413300101010, 'https://k-file-storage-qa.imgix.net/f/k-ruoka/product/6413300101010', 'https://www.k-ruoka.fi/kauppa/tuote/6413300101010', None], [6410402012237, 'https://k-file-storage-qa.imgix.net/f/k-ruoka/product/6410402012237', 'https://www.k-ruoka.fi/kauppa/tuote/6410402012237', None], [6430039220768, 'https://k-file-storage-qa.imgix.net/f/k-ruoka/product/6430039220768', 'https://www.k-ruoka.fi/kauppa/tuote/6430039220768', None], [5202390016325, 'https://k-file-storage-qa.imgix.net/f/k-ruoka/product/5202390016325', 'https://www.k-ruoka.fi/kauppa/tuote/5202390016325', None], [6416710390067, 'https://k-file-storage-qa.imgix.net/f/k-ruoka/product/6416710390067', 'https://www.k-ruoka.fi/kauppa/tuote/6416710390067', None], [6408430338429, 'https://k-file-storage-qa.imgix.net/f/k-ruoka/product/6408430338429', 'https://www.k-ruoka.fi/kauppa/tuote/6408430338429', None], [6424200028215, 'https://k-file-storage-qa.imgix.net/f/k-ruoka/product/6424200028215', 'https://www.k-ruoka.fi/kauppa/tuote/6424200028215', None], [6430043013127, 'https://k-file-storage-qa.imgix.net/f/k-ruoka/product/6430043013127', 'https://www.k-ruoka.fi/kauppa/tuote/6430043013127', None], [7311311015359, 'https://k-file-storage-qa.imgix.net/f/k-ruoka/product/7311311015359', 'https://www.k-ruoka.fi/kauppa/tuote/7311311015359', None], [3415581101928, 'https://k-file-storage-qa.imgix.net/f/k-ruoka/product/3415581101928', 'https://www.k-ruoka.fi/kauppa/tuote/3415581101928', None], [6411200107415, 'https://k-file-storage-qa.imgix.net/f/k-ruoka/product/6411200107415', 'https://www.k-ruoka.fi/kauppa/tuote/6411200107415', None], [2391343700008, 'https://k-file-storage-qa.imgix.net/f/k-ruoka/product/2391343700008', 'https://www.k-ruoka.fi/kauppa/tuote/2391343700008', None], [8000430194012, 'https://k-file-storage-qa.imgix.net/f/k-ruoka/product/8000430194012', 'https://www.k-ruoka.fi/kauppa/tuote/8000430194012', None], [6409770080603, 'https://k-file-storage-qa.imgix.net/f/k-ruoka/product/6409770080603', 'https://www.k-ruoka.fi/kauppa/tuote/6409770080603', None], [7310678510668, 'https://k-file-storage-qa.imgix.net/f/k-ruoka/product/7310678510668', 'https://www.k-ruoka.fi/kauppa/tuote/7310678510668', None], [8000430900231, 'https://k-file-storage-qa.imgix.net/f/k-ruoka/product/8000430900231', 'https://www.k-ruoka.fi/kauppa/tuote/8000430900231', None], [5765228200155, 'https://k-file-storage-qa.imgix.net/f/k-ruoka/product/5765228200155', 'https://www.k-ruoka.fi/kauppa/tuote/5765228200155', None], [6430064550007, 'https://k-file-storage-qa.imgix.net/f/k-ruoka/product/6430064550007', 'https://www.k-ruoka.fi/kauppa/tuote/6430064550007', None], [6405506191674, 'https://k-file-storage-qa.imgix.net/f/k-ruoka/product/6405506191674', 'https://www.k-ruoka.fi/kauppa/tuote/6405506191674', None], [6430011813315, 'https://k-file-storage-qa.imgix.net/f/k-ruoka/product/6430011813315', 'https://www.k-ruoka.fi/kauppa/tuote/6430011813315', None], [6410405137135, 'https://k-file-storage-qa.imgix.net/f/k-ruoka/product/6410405137135', 'https://www.k-ruoka.fi/kauppa/tuote/6410405137135', None], [6410405230713, 'https://k-file-storage-qa.imgix.net/f/k-ruoka/product/6410405230713', 'https://www.k-ruoka.fi/kauppa/tuote/6410405230713', None], [8410159301187, 'https://k-file-storage-qa.imgix.net/f/k-ruoka/product/8410159301187', 'https://www.k-ruoka.fi/kauppa/tuote/8410159301187', None], [6408430140930, 'https://k-file-storage-qa.imgix.net/f/k-ruoka/product/6408430140930', 'https://www.k-ruoka.fi/kauppa/tuote/6408430140930', None], [6410270059990, 'https://k-file-storage-qa.imgix.net/f/k-ruoka/product/6410270059990', 'https://www.k-ruoka.fi/kauppa/tuote/6410270059990', None], [6410405131522, 'https://k-file-storage-qa.imgix.net/f/k-ruoka/product/6410405131522', 'https://www.k-ruoka.fi/kauppa/tuote/6410405131522', None], [6420400001102, 'https://k-file-storage-qa.imgix.net/f/k-ruoka/product/6420400001102', 'https://www.k-ruoka.fi/kauppa/tuote/6420400001102', None], [7618500944750, 'https://k-file-storage-qa.imgix.net/f/k-ruoka/product/7618500944750', 'https://www.k-ruoka.fi/kauppa/tuote/7618500944750', None], [5701211016556, 'https://k-file-storage-qa.imgix.net/f/k-ruoka/product/5701211016556', 'https://www.k-ruoka.fi/kauppa/tuote/5701211016556', None], [6411410000797, 'https://k-file-storage-qa.imgix.net/f/k-ruoka/product/6411410000797', 'https://www.k-ruoka.fi/kauppa/tuote/6411410000797', None], [5410188009439, 'https://k-file-storage-qa.imgix.net/f/k-ruoka/product/5410188009439', 'https://www.k-ruoka.fi/kauppa/tuote/5410188009439', None], [7392555503833, 'https://k-file-storage-qa.imgix.net/f/k-ruoka/product/7392555503833', 'https://www.k-ruoka.fi/kauppa/tuote/7392555503833', None], [7310100955883, 'https://k-file-storage-qa.imgix.net/f/k-ruoka/product/7310100955883', 'https://www.k-ruoka.fi/kauppa/tuote/7310100955883', None], [6410405074898, 'https://k-file-storage-qa.imgix.net/f/k-ruoka/product/6410405074898', 'https://www.k-ruoka.fi/kauppa/tuote/6410405074898', None], [6408430035977, 'https://k-file-storage-qa.imgix.net/f/k-ruoka/product/6408430035977', 'https://www.k-ruoka.fi/kauppa/tuote/6408430035977', None], [6430044380792, 'https://k-file-storage-qa.imgix.net/f/k-ruoka/product/6430044380792', 'https://www.k-ruoka.fi/kauppa/tuote/6430044380792', None], [6430024242041, 'https://k-file-storage-qa.imgix.net/f/k-ruoka/product/6430024242041', 'https://www.k-ruoka.fi/kauppa/tuote/6430024242041', None], [7312631490543, 'https://k-file-storage-qa.imgix.net/f/k-ruoka/product/7312631490543', 'https://www.k-ruoka.fi/kauppa/tuote/7312631490543', None], [6430057760864, 'https://k-file-storage-qa.imgix.net/f/k-ruoka/product/6430057760864', 'https://www.k-ruoka.fi/kauppa/tuote/6430057760864', None], [7310340464442, 'https://k-file-storage-qa.imgix.net/f/k-ruoka/product/7310340464442', 'https://www.k-ruoka.fi/kauppa/tuote/7310340464442', None], [6410405227065, 'https://k-file-storage-qa.imgix.net/f/k-ruoka/product/6410405227065', 'https://www.k-ruoka.fi/kauppa/tuote/6410405227065', None], [6410405227041, 'https://k-file-storage-qa.imgix.net/f/k-ruoka/product/6410405227041', 'https://www.k-ruoka.fi/kauppa/tuote/6410405227041', None], [6415002506810, 'https://k-file-storage-qa.imgix.net/f/k-ruoka/product/6415002506810', 'https://www.k-ruoka.fi/kauppa/tuote/6415002506810', None], [6430025258690, 'https://k-file-storage-qa.imgix.net/f/k-ruoka/product/6430025258690', 'https://www.k-ruoka.fi/kauppa/tuote/6430025258690', None], [5022313184272, 'https://k-file-storage-qa.imgix.net/f/k-ruoka/product/5022313184272', 'https://www.k-ruoka.fi/kauppa/tuote/5022313184272', None], [6417972103853, 'https://k-file-storage-qa.imgix.net/f/k-ruoka/product/6417972103853', 'https://www.k-ruoka.fi/kauppa/tuote/6417972103853', None], [8008343700030, 'https://k-file-storage-qa.imgix.net/f/k-ruoka/product/8008343700030', 'https://www.k-ruoka.fi/kauppa/tuote/8008343700030', None], [6416710010484, 'https://k-file-storage-qa.imgix.net/f/k-ruoka/product/6416710010484', 'https://www.k-ruoka.fi/kauppa/tuote/6416710010484', None], [5201671800844, 'https://k-file-storage-qa.imgix.net/f/k-ruoka/product/5201671800844', 'https://www.k-ruoka.fi/kauppa/tuote/5201671800844', None], [6409944200530, 'https://k-file-storage-qa.imgix.net/f/k-ruoka/product/6409944200530', 'https://www.k-ruoka.fi/kauppa/tuote/6409944200530', None], [6420900001107, 'https://k-file-storage-qa.imgix.net/f/k-ruoka/product/6420900001107', 'https://www.k-ruoka.fi/kauppa/tuote/6420900001107', None], [6418130023082, 'https://k-file-storage-qa.imgix.net/f/k-ruoka/product/6418130023082', 'https://www.k-ruoka.fi/kauppa/tuote/6418130023082', None], [7310130002755, 'https://k-file-storage-qa.imgix.net/f/k-ruoka/product/7310130002755', 'https://www.k-ruoka.fi/kauppa/tuote/7310130002755', None], [6419811102102, 'https://k-file-storage-qa.imgix.net/f/k-ruoka/product/6419811102102', 'https://www.k-ruoka.fi/kauppa/tuote/6419811102102', None], [6410405049230, 'https://k-file-storage-qa.imgix.net/f/k-ruoka/product/6410405049230', 'https://www.k-ruoka.fi/kauppa/tuote/6410405049230', None], [6410405123404, 'https://k-file-storage-qa.imgix.net/f/k-ruoka/product/6410405123404', 'https://www.k-ruoka.fi/kauppa/tuote/6410405123404', None], [6430039220713, 'https://k-file-storage-qa.imgix.net/f/k-ruoka/product/6430039220713', 'https://www.k-ruoka.fi/kauppa/tuote/6430039220713', None], [3083680664752, 'https://k-file-storage-qa.imgix.net/f/k-ruoka/product/3083680664752', 'https://www.k-ruoka.fi/kauppa/tuote/3083680664752', None], [6410405108579, 'https://k-file-storage-qa.imgix.net/f/k-ruoka/product/6410405108579', 'https://www.k-ruoka.fi/kauppa/tuote/6410405108579', None], [7312490059004, 'https://k-file-storage-qa.imgix.net/f/k-ruoka/product/7312490059004', 'https://www.k-ruoka.fi/kauppa/tuote/7312490059004', None], [6418513051404, 'https://k-file-storage-qa.imgix.net/f/k-ruoka/product/6418513051404', 'https://www.k-ruoka.fi/kauppa/tuote/6418513051404', None], [7071848006762, 'https://k-file-storage-qa.imgix.net/f/k-ruoka/product/7071848006762', 'https://www.k-ruoka.fi/kauppa/tuote/7071848006762', None], [6410405142795, 'https://k-file-storage-qa.imgix.net/f/k-ruoka/product/6410405142795', 'https://www.k-ruoka.fi/kauppa/tuote/6410405142795', None], [8008343880664, 'https://k-file-storage-qa.imgix.net/f/k-ruoka/product/8008343880664', 'https://www.k-ruoka.fi/kauppa/tuote/8008343880664', None], [6417700055683, 'https://k-file-storage-qa.imgix.net/f/k-ruoka/product/6417700055683', 'https://www.k-ruoka.fi/kauppa/tuote/6417700055683', None], [6436501000623, 'https://k-file-storage-qa.imgix.net/f/k-ruoka/product/6436501000623', 'https://www.k-ruoka.fi/kauppa/tuote/6436501000623', None], [6417805460412, 'https://k-file-storage-qa.imgix.net/f/k-ruoka/product/6417805460412', 'https://www.k-ruoka.fi/kauppa/tuote/6417805460412', None], [6430030710305, 'https://k-file-storage-qa.imgix.net/f/k-ruoka/product/6430030710305', 'https://www.k-ruoka.fi/kauppa/tuote/6430030710305', None], [6417238005051, 'https://k-file-storage-qa.imgix.net/f/k-ruoka/product/6417238005051', 'https://www.k-ruoka.fi/kauppa/tuote/6417238005051', None], [6410405178893, 'https://k-file-storage-qa.imgix.net/f/k-ruoka/product/6410405178893', 'https://www.k-ruoka.fi/kauppa/tuote/6410405178893', None], [6416046379002, 'https://k-file-storage-qa.imgix.net/f/k-ruoka/product/6416046379002', 'https://www.k-ruoka.fi/kauppa/tuote/6416046379002', None], [5701211003716, 'https://k-file-storage-qa.imgix.net/f/k-ruoka/product/5701211003716', 'https://www.k-ruoka.fi/kauppa/tuote/5701211003716', None], [6416710010460, 'https://k-file-storage-qa.imgix.net/f/k-ruoka/product/6416710010460', 'https://www.k-ruoka.fi/kauppa/tuote/6416710010460', None], [7312631400016, 'https://k-file-storage-qa.imgix.net/f/k-ruoka/product/7312631400016', 'https://www.k-ruoka.fi/kauppa/tuote/7312631400016', None], [6416419130759, 'https://k-file-storage-qa.imgix.net/f/k-ruoka/product/6416419130759', 'https://www.k-ruoka.fi/kauppa/tuote/6416419130759', None], [6436501000302, 'https://k-file-storage-qa.imgix.net/f/k-ruoka/product/6436501000302', 'https://www.k-ruoka.fi/kauppa/tuote/6436501000302', None], [8715035130807, 'https://k-file-storage-qa.imgix.net/f/k-ruoka/product/8715035130807', 'https://www.k-ruoka.fi/kauppa/tuote/8715035130807', None], [6420613935317, 'https://k-file-storage-qa.imgix.net/f/k-ruoka/product/6420613935317', 'https://www.k-ruoka.fi/kauppa/tuote/6420613935317', None], [8008343201193, 'https://k-file-storage-qa.imgix.net/f/k-ruoka/product/8008343201193', 'https://www.k-ruoka.fi/kauppa/tuote/8008343201193', None], [6409941301322, 'https://k-file-storage-qa.imgix.net/f/k-ruoka/product/6409941301322', 'https://www.k-ruoka.fi/kauppa/tuote/6409941301322', None], [8410179300825, 'https://k-file-storage-qa.imgix.net/f/k-ruoka/product/8410179300825', 'https://www.k-ruoka.fi/kauppa/tuote/8410179300825', None], [7331217011248, 'https://k-file-storage-qa.imgix.net/f/k-ruoka/product/7331217011248', 'https://www.k-ruoka.fi/kauppa/tuote/7331217011248', None], [6410405123367, 'https://k-file-storage-qa.imgix.net/f/k-ruoka/product/6410405123367', 'https://www.k-ruoka.fi/kauppa/tuote/6410405123367', None], [6405699030514, 'https://k-file-storage-qa.imgix.net/f/k-ruoka/product/6405699030514', 'https://www.k-ruoka.fi/kauppa/tuote/6405699030514', None], [7311442123800, 'https://k-file-storage-qa.imgix.net/f/k-ruoka/product/7311442123800', 'https://www.k-ruoka.fi/kauppa/tuote/7311442123800', None], [6410405227645, 'https://k-file-storage-qa.imgix.net/f/k-ruoka/product/6410405227645', 'https://www.k-ruoka.fi/kauppa/tuote/6410405227645', None], [3123930657100, 'https://k-file-storage-qa.imgix.net/f/k-ruoka/product/3123930657100', 'https://www.k-ruoka.fi/kauppa/tuote/3123930657100', None], [5034795000216, 'https://k-file-storage-qa.imgix.net/f/k-ruoka/product/5034795000216', 'https://www.k-ruoka.fi/kauppa/tuote/5034795000216', None], [8028257005199, 'https://k-file-storage-qa.imgix.net/f/k-ruoka/product/8028257005199', 'https://www.k-ruoka.fi/kauppa/tuote/8028257005199', None], [8005110630408, 'https://k-file-storage-qa.imgix.net/f/k-ruoka/product/8005110630408', 'https://www.k-ruoka.fi/kauppa/tuote/8005110630408', None], [6416710510151, 'https://k-file-storage-qa.imgix.net/f/k-ruoka/product/6416710510151', 'https://www.k-ruoka.fi/kauppa/tuote/6416710510151', None], [6415600543613, 'https://k-file-storage-qa.imgix.net/f/k-ruoka/product/6415600543613', 'https://www.k-ruoka.fi/kauppa/tuote/6415600543613', None], [7312787710113, 'https://k-file-storage-qa.imgix.net/f/k-ruoka/product/7312787710113', 'https://www.k-ruoka.fi/kauppa/tuote/7312787710113', None], [7350020724541, 'https://k-file-storage-qa.imgix.net/f/k-ruoka/product/7350020724541', 'https://www.k-ruoka.fi/kauppa/tuote/7350020724541', None], [7310155800053, 'https://k-file-storage-qa.imgix.net/f/k-ruoka/product/7310155800053', 'https://www.k-ruoka.fi/kauppa/tuote/7310155800053', None]]\n"
          ],
          "name": "stdout"
        },
        {
          "output_type": "stream",
          "text": [
            "/usr/local/lib/python3.6/dist-packages/ipykernel_launcher.py:15: UserWarning: Boolean Series key will be reindexed to match DataFrame index.\n",
            "  from ipykernel import kernelapp as app\n"
          ],
          "name": "stderr"
        }
      ]
    },
    {
      "cell_type": "code",
      "metadata": {
        "id": "GDCor8Lg1mAY",
        "colab_type": "code",
        "colab": {}
      },
      "source": [
        "data = [[6438706858849, 1],\n",
        "[6405096008055, 1],\n",
        "[6405096008055, 1],\n",
        "[6405096008055, 1],\n",
        "[6405096008055, 1],\n",
        "[6405096008055, 1],\n",
        "[6405096008055, 1],\n",
        "[6412000032198, 2],\n",
        "[6410381090592, 2],\n",
        "[6410381086281, 2],\n",
        "[6420256014127, 1],\n",
        "[6405304006200, 1],\n",
        "[6410405079251, 1],\n",
        "[6412000085095, 2],\n",
        "[6410405057341, 1],\n",
        "[6410405088680, 0],\n",
        "[4000512364788, 1],\n",
        "[6407850056487, 2],\n",
        "[6410405138521, 1],\n",
        "[5053990123834, 1],\n",
        "[6413466087203, 1],\n",
        "[6410381092183, 2],\n",
        "[6413600176411, 2],\n",
        "[6415600548922, 1],\n",
        "[6407850053738, 0],\n",
        "[6416453054820, 1],\n",
        "[6410405208286, 1],\n",
        "[6407860061747, 1],\n",
        "[6410405149138, 1],\n",
        "[6430025520063, 1],\n",
        "[6415600516365, 1],\n",
        "[6410405176073, 0],\n",
        "[6409620011597, 0],\n",
        "[7613035942769, 2],\n",
        "[6412000085088, 2],\n",
        "[6430104958343, 1],\n",
        "[6412500002691, 2],\n",
        "[6410405044723, 1],\n",
        "[6417000034302, 1],\n",
        "[6407870073341, 0],\n",
        "[6411733000047, 1],\n",
        "[6405346002635, 2],\n",
        "[6410405077257, 0],\n",
        "[4001724017516, 1],\n",
        "[6413600014812, 2],\n",
        "[6406300009608, 1],\n",
        "[7622210406873, 0],\n",
        "[7310532108130, 1],\n",
        "[6412000036134, 2],\n",
        "[6410405170392, 1],\n",
        "[6413467429101, 1],\n",
        "[6417901008907, 1],\n",
        "[6412000030606, 2],\n",
        "[6416025118233, 1],\n",
        "[6413601133406, 2],\n",
        "[6430035020256, 1],\n",
        "[6412500073073, 2],\n",
        "[6405980001223, 0],\n",
        "[6410405119605, 1],\n",
        "[6417000029612, 1],\n",
        "[6410405155528, 0],\n",
        "[7310500175256, 1],\n",
        "[6420611351041, 1],\n",
        "[5053990145263, 1],\n",
        "[6410405110947, 1],\n",
        "[4742476003944, 0],\n",
        "[6433500060160, 2],\n",
        "[6410381081187, 2],\n",
        "[8714100697641, 0],\n",
        "[6410405133021, 1],\n",
        "[7622210842121, 1],\n",
        "[6410400029688, 1],\n",
        "[6410405137357, 1],\n",
        "[6413600094234, 2],\n",
        "[5709152015904, 1],\n",
        "[6410405066916, 1],\n",
        "[6430058336136, 1],\n",
        "[6410405118493, 1],\n",
        "[4893139528004, 1],\n",
        "[6409100074111, 2],\n",
        "[6410405105554, 1],\n",
        "[7391814003268, 0],\n",
        "[6409100073602, 2],\n",
        "[6407850053455, 1],\n",
        "[4001724031338, 1],\n",
        "[7310532151969, 0],\n",
        "[4002971250602, 1],\n",
        "[6415130027997, 1],\n",
        "[6410405155207, 1],\n",
        "[6430025522210, 1],\n",
        "[6410405109064, 1],\n",
        "[7310240171877, 1],\n",
        "[5000382102991, 1],\n",
        "[2000568100004, 1],\n",
        "[6430057691441, 1],\n",
        "[6419800140344, 2],\n",
        "[6412000034789, 2],\n",
        "[6415130076964, 1],\n",
        "[6410402019571, 1],\n",
        "[7622210654793, 1],\n",
        "[6417700056512, 1],\n",
        "[6410405126832, 1],\n",
        "[6410405120427, 1],\n",
        "[6417901011174, 1],\n",
        "[6410405137333, 1],\n",
        "[6405346003236, 1],\n",
        "[6410400033104, 1],\n",
        "[3083680539500, 0],\n",
        "[7322550031215, 1],\n",
        "[6407810017947, 0],\n",
        "[6409100053789, 2],\n",
        "[7310100749710, 1],\n",
        "[5060122034401, 1],\n",
        "[8410076480552, 0],\n",
        "[6405506373353, 1],\n",
        "[6412000084258, 2],\n",
        "[6409100052072, 2],\n",
        "[6411200109914, 1],\n",
        "[4001744061339, 1],\n",
        "[6413600163107, 2],\n",
        "[6410381095245, 2],\n",
        "[6410405220349, 1],\n",
        "[6417777042302, 0],\n",
        "[7038010028854, 0],\n",
        "[6412000032389, 2],\n",
        "[6417095300573, 0],\n",
        "[6407810013048, 0],\n",
        "[6413300000214, 0],\n",
        "[6412500037402, 0],\n",
        "[5900852929250, 0],\n",
        "[6410405149602, 1],\n",
        "[9000332812662, 1],\n",
        "[6408653125837, 2],\n",
        "[6409421418427, 1],\n",
        "[6412000030378, 2],\n",
        "[6405506471653, 1],\n",
        "[8715035240308, 1],\n",
        "[6410405055378, 1],\n",
        "[6406510094197, 2],\n",
        "[6410405046956, 1],\n",
        "[6411402535108, 1],\n",
        "[7613032202675, 1],\n",
        "[7312170057160, 0],\n",
        "[6410405195272, 1],\n",
        "[6419744005310, 1],\n",
        "[8719200059047, 2],\n",
        "[6406510931003, 2],\n",
        "[6410405184320, 0],\n",
        "[6410405084354, 1],\n",
        "[6415131414505, 1],\n",
        "[5997523312275, 1],\n",
        "[6412000034567, 2],\n",
        "[8718885890464, 1],\n",
        "[8714100567173, 2],\n",
        "[7613035578029, 1],\n",
        "[2386449400006, 0],\n",
        "[5410358454939, 1],\n",
        "[7322550038573, 1],\n",
        "[7394376665066, 0],\n",
        "[6410405105295, 1],\n",
        "[6411300628469, 2],\n",
        "[6415600502924, 1],\n",
        "[6408430340347, 2],\n",
        "[6420224231129, 1],\n",
        "[6406510941248, 2],\n",
        "[6409290001577, 0],\n",
        "[4002971328608, 2],\n",
        "[6405857305201, 1],\n",
        "[6410402004423, 0],\n",
        "[6407870072801, 2],\n",
        "[6409100064488, 2],\n",
        "[8851876201761, 2],\n",
        "[2000579100000, 1],\n",
        "[6416453035812, 1],\n",
        "[8711327331075, 1],\n",
        "[2391394100000, 2],\n",
        "[6409100051426, 2],\n",
        "[5709281009003, 1],\n",
        "[6430053732650, 1],\n",
        "[6410405048561, 0],\n",
        "[6410405135025, 0],\n",
        "[8719200066069, 0],\n",
        "[7311149104003, 2],\n",
        "[3800203050669, 2],\n",
        "[6410402024933, 0],\n",
        "[6410405178145, 1],\n",
        "[6412000016587, 2],\n",
        "[7350020721861, 1],\n",
        "[6411402200105, 1],\n",
        "[7622210840202, 2],\n",
        "[7311442123701, 2],\n",
        "[8853662004020, 0],\n",
        "[5411188121329, 0],\n",
        "[6415130049883, 1],\n",
        "[6430043700232, 2],\n",
        "[6407810012980, 0],\n",
        "[7613035785434, 1],\n",
        "[6410840066144, 2],\n",
        "[7350000550658, 0],\n",
        "[6430055271072, 0],\n",
        "[6418513061304, 2],\n",
        "[6410405137623, 2],\n",
        "[7310865074768, 1],\n",
        "[6410381091636, 2],\n",
        "[6407790900604, 2],\n",
        "[6415600549066, 1],\n",
        "[6408430000142, 2],\n",
        "[7311440600303, 2],\n",
        "[6430051511639, 0],\n",
        "[8001665128698, 0],\n",
        "[5201671000503, 0],\n",
        "[6430018521305, 2],\n",
        "[7310100747242, 2],\n",
        "[7316150974836, 0],\n",
        "[5706779058222, 0],\n",
        "[7613035850194, 0],\n",
        "[6430017900163, 0],\n",
        "[3228020231670, 0],\n",
        "[5032722301313, 0],\n",
        "[6410405148940, 1],\n",
        "[5202390015472, 0],\n",
        "[6418795100104, 1],\n",
        "[7310861040811, 2],\n",
        "[6416710020834, 0],\n",
        "[8410179000411, 0],\n",
        "[6408430140947, 2],\n",
        "[6430053730526, 0],\n",
        "[7392555340513, 0],\n",
        "[8005110630408, 0],\n",
        "[7310130801716, 1],\n",
        "[5201194037000, 0],\n",
        "[6430048441215, 2],\n",
        "[6408641099751, 0],\n",
        "[7312170056804, 1],\n",
        "[5709742000501, 0],\n",
        "[6416710020841, 0],\n",
        "[7310130006241, 1],\n",
        "[5201671000527, 0],\n",
        "[4062300269774, 1],\n",
        "[2378432700002, 0],\n",
        "[3123930657100, 0],\n",
        "[5765228103036, 2],\n",
        "[6408430036905, 2],\n",
        "[7350002406380, 0],\n",
        "[5765228707722, 2],\n",
        "[6430033524008, 1],\n",
        "[6413300101010, 2],\n",
        "[6430041080398, 2],\n",
        "[6430025640167, 2],\n",
        "[6430011810444, 1],\n",
        "[2000578400002, 0],\n",
        "[6410405126641, 0],\n",
        "[6410405103338, 0],\n",
        "[6419811101303, 1],\n",
        "[7312787710199, 0],\n",
        "[6409944200493, 0],\n",
        "[5201194003012, 0],\n",
        "[5010338016302, 1],\n",
        "[5050974000730, 0],\n",
        "[6430041495048, 0],\n",
        "[3088540104102, 1],\n",
        "[6430067840174, 0],\n",
        "[6430041315018, 2],\n",
        "[6417700052248, 0],\n",
        "[7311143200107, 0],\n",
        "[6411810001042, 1],\n",
        "[5060107335554, 1],\n",
        "[6413467215414, 0],\n",
        "[7035380000060, 2],\n",
        "[6430057760956, 1],\n",
        "[6430043013127, 0],\n",
        "[2391203300003, 2],\n",
        "[6410405224965, 0],\n",
        "[6418513051404, 1],\n",
        "[5765228128947, 2],\n",
        "[6414505027471, 2],\n",
        "[5765228514641, 2],\n",
        "[6417801801059, 2],\n",
        "[7311311004094, 0],\n",
        "[4032549001855, 0],\n",
        "[6417894000124, 1],\n",
        "[6410405118714, 2],\n",
        "[6430028236015, 1],\n",
        "[5014276701115, 0],\n",
        "[5765228263600, 2],\n",
        "[6420610112858, 1],\n",
        "[6408620002635, 0],\n",
        "[5765228508053, 2],\n",
        "[6430011813346, 1],\n",
        "[6416710030222, 0],\n",
        "[6408430000685, 2],\n",
        "[7311442111807, 2],\n",
        "[6410405181794, 2],\n",
        "[7311442123800, 2],\n",
        "[6430047632096, 0],\n",
        "[5201671802497, 0],\n",
        "[7312170056231, 1],\n",
        "[7310678510668, 1],\n",
        "[7312631400795, 0],\n",
        "[6410405229267, 0],\n",
        "[7311310015718, 0],\n",
        "[6408430000418, 2],\n",
        "[6416492013215, 2],\n",
        "[6413300015058, 0],\n",
        "[6409770054802, 1],\n",
        "[5701073062654, 1]]\n",
        "eans = set(item[0] for item in data)"
      ],
      "execution_count": 0,
      "outputs": []
    },
    {
      "cell_type": "code",
      "metadata": {
        "id": "DJ4wRZv91zXn",
        "colab_type": "code",
        "colab": {}
      },
      "source": [
        "df_train = df[df.index.isin(eans)]\n",
        "df_labels = pd.DataFrame(data, columns=['ean', 'label']).set_index('ean')\n",
        "df_tmp = df_train.join(df_labels)\n",
        "df_tmp = df_tmp[df_tmp['label'].isin([0, 1])]"
      ],
      "execution_count": 0,
      "outputs": []
    },
    {
      "cell_type": "code",
      "metadata": {
        "id": "rk6PQl6zFjmS",
        "colab_type": "code",
        "colab": {}
      },
      "source": [
        "positive = set(df_labels[df_labels['label'] == 1].index)\n",
        "negative = set(df_labels[df_labels['label'] == 0].index)"
      ],
      "execution_count": 0,
      "outputs": []
    },
    {
      "cell_type": "code",
      "metadata": {
        "id": "fgJA3yzp4cDa",
        "colab_type": "code",
        "colab": {
          "base_uri": "https://localhost:8080/",
          "height": 981
        },
        "outputId": "f87c4d8a-75c9-4edf-9e57-26b0ff8d57ac"
      },
      "source": [
        "features = ['carbs_per_100g', 'fat_per_100g', 'kcal_per_100g', 'protein_per_100g', 'saturated_fat_per_100g', 'salt_per_100', 'sugar_per_100', 'easy0_frac', 'easy2_frac', 'qual0_frac', 'qual2_frac']\n",
        "X = df_tmp[features].fillna(0)\n",
        "Y = df_tmp['label']\n",
        "df_tmp.fillna(0).corrwith(Y)"
      ],
      "execution_count": 384,
      "outputs": [
        {
          "output_type": "execute_result",
          "data": {
            "text/plain": [
              "total                        0.008166\n",
              "easy0                       -0.097533\n",
              "easy1                       -0.005533\n",
              "easy2                        0.085358\n",
              "qual0                        0.078003\n",
              "qual1                       -0.004496\n",
              "qual2                       -0.122257\n",
              "cls0                        -0.006697\n",
              "cls1                        -0.052407\n",
              "cls2                        -0.031640\n",
              "cls3                         0.053305\n",
              "cls4                         0.052302\n",
              "dist                        -0.174131\n",
              "co2                         -0.111327\n",
              "co2_rank                    -0.154988\n",
              "alk_vol                      0.122101\n",
              "berry_fruit_content          0.053811\n",
              "brand                        0.010854\n",
              "carbs_per_100g               0.332120\n",
              "fat_per_100g                -0.139941\n",
              "fat_percent                 -0.051741\n",
              "ingredients                       NaN\n",
              "kcal_per_100g                0.026149\n",
              "lactose_per_100g            -0.064402\n",
              "manufacturer                -0.082104\n",
              "meat_fish_content_percent   -0.049147\n",
              "milk_fat_percent                  NaN\n",
              "monosaturated_fat_g         -0.083513\n",
              "nutritional_fiber           -0.159421\n",
              "polyunsaturated_fat_g       -0.081118\n",
              "product_category             0.006510\n",
              "protein_per_100g            -0.295751\n",
              "raw_per_100g                      NaN\n",
              "recycling_emblems                 NaN\n",
              "salt_per_100                -0.026347\n",
              "salt_percent                      NaN\n",
              "saturated_fat_per_100g      -0.092453\n",
              "sugar_per_100                0.259067\n",
              "sugar_percent                0.075581\n",
              "unsaturated_fat_percent           NaN\n",
              "vitamin_a_ug                -0.112916\n",
              "vitamin_b12_ug              -0.145154\n",
              "vitamin_b6_ug                0.080638\n",
              "vitamin_c_mg                -0.058284\n",
              "weight                       0.032985\n",
              "easy0_frac                  -0.462432\n",
              "easy2_frac                   0.436728\n",
              "qual0_frac                   0.443423\n",
              "qual2_frac                  -0.454523\n",
              "badness                      0.459923\n",
              "goodness                    -0.460328\n",
              "label                        1.000000\n",
              "dtype: float64"
            ]
          },
          "metadata": {
            "tags": []
          },
          "execution_count": 384
        }
      ]
    },
    {
      "cell_type": "code",
      "metadata": {
        "id": "5nuPekPWnfch",
        "colab_type": "code",
        "colab": {
          "base_uri": "https://localhost:8080/",
          "height": 201
        },
        "outputId": "e2db15be-b01a-44b2-b38e-c2801ed75942"
      },
      "source": [
        "from sklearn.linear_model import LogisticRegression\n",
        "regressor = LogisticRegression()\n",
        "regressor.fit(X, Y)\n",
        "Y_pred = regressor.predict(X)\n",
        "print(regressor.coef_)\n",
        "print(regressor.score(X, Y))\n",
        "result = pd.concat([pd.Series(Y.values), pd.Series(Y_pred)], axis=1)\n",
        "(result[0] == result[1]).value_counts()"
      ],
      "execution_count": 385,
      "outputs": [
        {
          "output_type": "stream",
          "text": [
            "[[ 3.15206212e-02  1.53506072e-03 -5.00074070e-04 -1.05695799e-01\n",
            "  -4.60391667e-02 -2.68346850e-02  2.99310510e-03 -1.29386075e+00\n",
            "   1.54256135e+00  1.35432286e+00 -1.10681556e+00]]\n",
            "0.8009049773755657\n"
          ],
          "name": "stdout"
        },
        {
          "output_type": "stream",
          "text": [
            "/usr/local/lib/python3.6/dist-packages/sklearn/linear_model/logistic.py:432: FutureWarning: Default solver will be changed to 'lbfgs' in 0.22. Specify a solver to silence this warning.\n",
            "  FutureWarning)\n"
          ],
          "name": "stderr"
        },
        {
          "output_type": "execute_result",
          "data": {
            "text/plain": [
              "True     177\n",
              "False     44\n",
              "dtype: int64"
            ]
          },
          "metadata": {
            "tags": []
          },
          "execution_count": 385
        }
      ]
    },
    {
      "cell_type": "code",
      "metadata": {
        "id": "Nu7FHeGd61XZ",
        "colab_type": "code",
        "colab": {
          "base_uri": "https://localhost:8080/",
          "height": 731
        },
        "outputId": "686fa759-caab-4d37-baa3-7d612d8aaa61"
      },
      "source": [
        "log_odds = sum((coef * df[col].fillna(0) for col, coef in zip(X.columns, regressor.coef_[0])), regressor.intercept_[0])\n",
        "prob_bad = 1 / (1 + np.exp(-log_odds))\n",
        "goodness = 1.0 - 1.0 / (1.0 + np.exp(-(prob_bad - 0.65) * 15))\n",
        "#plt.figure()\n",
        "#plt.hist(prob_bad[prob_bad.index.isin(positive)])\n",
        "#plt.figure()\n",
        "#plt.hist(prob_bad[prob_bad.index.isin(negative)])\n",
        "#print(prob_bad[prob_bad.index.isin(['6405096008055'])])\n",
        "plt.figure()\n",
        "plt.hist(goodness[goodness.index.isin(positive)])\n",
        "plt.figure()\n",
        "plt.hist(goodness[goodness.index.isin(negative)])\n",
        "print(goodness[goodness.index.isin(['6405096008055'])])\n",
        "print(goodness[goodness.index.isin(['6405096400170'])])\n",
        "print(prob_bad[prob_bad.index.isin(['6405096008055'])])\n",
        "print(prob_bad[prob_bad.index.isin(['6405096400170'])])\n"
      ],
      "execution_count": 397,
      "outputs": [
        {
          "output_type": "stream",
          "text": [
            "ean\n",
            "6405096008055    0.185418\n",
            "dtype: float64\n",
            "ean\n",
            "6405096400170    0.377604\n",
            "dtype: float64\n",
            "ean\n",
            "6405096008055    0.748671\n",
            "dtype: float64\n",
            "ean\n",
            "6405096400170    0.683315\n",
            "dtype: float64\n"
          ],
          "name": "stdout"
        },
        {
          "output_type": "display_data",
          "data": {
            "image/png": "[encoded data removed]",
            "text/plain": [
              "<Figure size 432x288 with 1 Axes>"
            ]
          },
          "metadata": {
            "tags": []
          }
        },
        {
          "output_type": "display_data",
          "data": {
            "image/png": "[encoded data removed]",
            "text/plain": [
              "<Figure size 432x288 with 1 Axes>"
            ]
          },
          "metadata": {
            "tags": []
          }
        }
      ]
    },
    {
      "cell_type": "code",
      "metadata": {
        "id": "AURJQnfOGhVv",
        "colab_type": "code",
        "colab": {
          "base_uri": "https://localhost:8080/",
          "height": 72
        },
        "outputId": "630cb814-2377-453e-a26a-629e3d1e67d4"
      },
      "source": [
        "prob_bad[prob_bad.index.isin(['6405096008055'])]"
      ],
      "execution_count": 387,
      "outputs": [
        {
          "output_type": "execute_result",
          "data": {
            "text/plain": [
              "ean\n",
              "6405096008055    0.748671\n",
              "dtype: float64"
            ]
          },
          "metadata": {
            "tags": []
          },
          "execution_count": 387
        }
      ]
    },
    {
      "cell_type": "code",
      "metadata": {
        "id": "sdKALIUa_Trm",
        "colab_type": "code",
        "colab": {
          "base_uri": "https://localhost:8080/",
          "height": 54
        },
        "outputId": "d23edec4-d39b-4879-a3b2-d89455b257e5"
      },
      "source": [
        "coefs = regressor.coef_[0]\n",
        "intercept = regressor.intercept_[0]\n",
        "print(list(round(x, 6) for x in list(coefs)))\n",
        "print(intercept)"
      ],
      "execution_count": 388,
      "outputs": [
        {
          "output_type": "stream",
          "text": [
            "[0.031521, 0.001535, -0.0005, -0.105696, -0.046039, -0.026835, 0.002993, -1.293861, 1.542561, 1.354323, -1.106816]\n",
            "0.587062752994051\n"
          ],
          "name": "stdout"
        }
      ]
    },
    {
      "cell_type": "code",
      "metadata": {
        "id": "WWmU9yPt-06W",
        "colab_type": "code",
        "colab": {
          "base_uri": "https://localhost:8080/",
          "height": 90
        },
        "outputId": "9965a237-8da7-4f2f-cec7-c39298b22b85"
      },
      "source": [
        "X.columns.values"
      ],
      "execution_count": 252,
      "outputs": [
        {
          "output_type": "execute_result",
          "data": {
            "text/plain": [
              "array(['carbs_per_100g', 'fat_per_100g', 'kcal_per_100g',\n",
              "       'protein_per_100g', 'saturated_fat_per_100g', 'salt_per_100',\n",
              "       'sugar_per_100', 'meat_fish_content_percent', 'badness'],\n",
              "      dtype=object)"
            ]
          },
          "metadata": {
            "tags": []
          },
          "execution_count": 252
        }
      ]
    },
    {
      "cell_type": "code",
      "metadata": {
        "id": "_PXbeBOf-i60",
        "colab_type": "code",
        "colab": {
          "base_uri": "https://localhost:8080/",
          "height": 72
        },
        "outputId": "d2b0c0cd-e5cc-4252-9090-556fbb7c43c5"
      },
      "source": [
        "for a, b, in zip(X.columns, regressor.coef_): print(a, b)"
      ],
      "execution_count": 246,
      "outputs": [
        {
          "output_type": "stream",
          "text": [
            "carbs_per_100g [ 3.17179897e-02 -1.27078838e-02  4.75528227e-05 -1.16790352e-01\n",
            " -9.41744306e-03 -3.40788824e-02  1.47711173e-03  8.19048335e-03\n",
            "  2.80894261e+00]\n"
          ],
          "name": "stdout"
        }
      ]
    },
    {
      "cell_type": "code",
      "metadata": {
        "id": "f_7WOngh-Jzo",
        "colab_type": "code",
        "colab": {
          "base_uri": "https://localhost:8080/",
          "height": 437
        },
        "outputId": "35d48b90-bb1d-4781-a59d-0c00c853aaf2"
      },
      "source": [
        "regressor.coef_  X"
      ],
      "execution_count": 240,
      "outputs": [
        {
          "output_type": "execute_result",
          "data": {
            "text/html": [
              "<div>\n",
              "<style scoped>\n",
              "    .dataframe tbody tr th:only-of-type {\n",
              "        vertical-align: middle;\n",
              "    }\n",
              "\n",
              "    .dataframe tbody tr th {\n",
              "        vertical-align: top;\n",
              "    }\n",
              "\n",
              "    .dataframe thead th {\n",
              "        text-align: right;\n",
              "    }\n",
              "</style>\n",
              "<table border=\"1\" class=\"dataframe\">\n",
              "  <thead>\n",
              "    <tr style=\"text-align: right;\">\n",
              "      <th></th>\n",
              "      <th>carbs_per_100g</th>\n",
              "      <th>fat_per_100g</th>\n",
              "      <th>kcal_per_100g</th>\n",
              "      <th>protein_per_100g</th>\n",
              "      <th>saturated_fat_per_100g</th>\n",
              "      <th>salt_per_100</th>\n",
              "      <th>sugar_per_100</th>\n",
              "      <th>meat_fish_content_percent</th>\n",
              "      <th>badness</th>\n",
              "    </tr>\n",
              "    <tr>\n",
              "      <th>ean</th>\n",
              "      <th></th>\n",
              "      <th></th>\n",
              "      <th></th>\n",
              "      <th></th>\n",
              "      <th></th>\n",
              "      <th></th>\n",
              "      <th></th>\n",
              "      <th></th>\n",
              "      <th></th>\n",
              "    </tr>\n",
              "  </thead>\n",
              "  <tbody>\n",
              "    <tr>\n",
              "      <th>2000568100004</th>\n",
              "      <td>1.681053</td>\n",
              "      <td>-0.216034</td>\n",
              "      <td>0.018641</td>\n",
              "      <td>-0.724100</td>\n",
              "      <td>-0.033903</td>\n",
              "      <td>-0.023855</td>\n",
              "      <td>0.035451</td>\n",
              "      <td>0.0</td>\n",
              "      <td>0.731116</td>\n",
              "    </tr>\n",
              "    <tr>\n",
              "      <th>2000578400002</th>\n",
              "      <td>0.069780</td>\n",
              "      <td>-0.003812</td>\n",
              "      <td>0.000951</td>\n",
              "      <td>-0.210223</td>\n",
              "      <td>-0.000000</td>\n",
              "      <td>-0.000000</td>\n",
              "      <td>0.003102</td>\n",
              "      <td>0.0</td>\n",
              "      <td>0.051123</td>\n",
              "    </tr>\n",
              "    <tr>\n",
              "      <th>2000579100000</th>\n",
              "      <td>1.585899</td>\n",
              "      <td>-0.289740</td>\n",
              "      <td>0.020590</td>\n",
              "      <td>-0.677384</td>\n",
              "      <td>-0.000000</td>\n",
              "      <td>-0.000000</td>\n",
              "      <td>0.000000</td>\n",
              "      <td>0.0</td>\n",
              "      <td>0.508061</td>\n",
              "    </tr>\n",
              "    <tr>\n",
              "      <th>2378432700002</th>\n",
              "      <td>0.000000</td>\n",
              "      <td>-0.052102</td>\n",
              "      <td>0.005754</td>\n",
              "      <td>-2.452597</td>\n",
              "      <td>-0.018835</td>\n",
              "      <td>-0.003408</td>\n",
              "      <td>0.000000</td>\n",
              "      <td>0.0</td>\n",
              "      <td>0.007023</td>\n",
              "    </tr>\n",
              "    <tr>\n",
              "      <th>2386449400006</th>\n",
              "      <td>0.000000</td>\n",
              "      <td>-0.330405</td>\n",
              "      <td>0.013790</td>\n",
              "      <td>-1.751855</td>\n",
              "      <td>-0.084757</td>\n",
              "      <td>-0.003408</td>\n",
              "      <td>0.000000</td>\n",
              "      <td>0.0</td>\n",
              "      <td>0.219557</td>\n",
              "    </tr>\n",
              "    <tr>\n",
              "      <th>...</th>\n",
              "      <td>...</td>\n",
              "      <td>...</td>\n",
              "      <td>...</td>\n",
              "      <td>...</td>\n",
              "      <td>...</td>\n",
              "      <td>...</td>\n",
              "      <td>...</td>\n",
              "      <td>...</td>\n",
              "      <td>...</td>\n",
              "    </tr>\n",
              "    <tr>\n",
              "      <th>8715035240308</th>\n",
              "      <td>0.348898</td>\n",
              "      <td>-0.000000</td>\n",
              "      <td>0.004422</td>\n",
              "      <td>-0.981039</td>\n",
              "      <td>-0.000000</td>\n",
              "      <td>-0.456657</td>\n",
              "      <td>0.010931</td>\n",
              "      <td>0.0</td>\n",
              "      <td>0.066471</td>\n",
              "    </tr>\n",
              "    <tr>\n",
              "      <th>8718885890464</th>\n",
              "      <td>0.031718</td>\n",
              "      <td>-0.179181</td>\n",
              "      <td>0.009511</td>\n",
              "      <td>-1.845288</td>\n",
              "      <td>-0.017893</td>\n",
              "      <td>-0.023855</td>\n",
              "      <td>0.000148</td>\n",
              "      <td>0.0</td>\n",
              "      <td>0.067535</td>\n",
              "    </tr>\n",
              "    <tr>\n",
              "      <th>8719200066069</th>\n",
              "      <td>0.209339</td>\n",
              "      <td>-0.317697</td>\n",
              "      <td>0.012459</td>\n",
              "      <td>-0.362050</td>\n",
              "      <td>-0.160097</td>\n",
              "      <td>-0.044303</td>\n",
              "      <td>0.008567</td>\n",
              "      <td>0.0</td>\n",
              "      <td>0.230948</td>\n",
              "    </tr>\n",
              "    <tr>\n",
              "      <th>8853662004020</th>\n",
              "      <td>1.681053</td>\n",
              "      <td>-0.002542</td>\n",
              "      <td>0.010414</td>\n",
              "      <td>-0.163506</td>\n",
              "      <td>-0.000000</td>\n",
              "      <td>-0.119276</td>\n",
              "      <td>0.067947</td>\n",
              "      <td>0.0</td>\n",
              "      <td>0.161067</td>\n",
              "    </tr>\n",
              "    <tr>\n",
              "      <th>9000332812662</th>\n",
              "      <td>2.220259</td>\n",
              "      <td>-0.152495</td>\n",
              "      <td>0.018831</td>\n",
              "      <td>-0.210223</td>\n",
              "      <td>-0.067806</td>\n",
              "      <td>-0.000682</td>\n",
              "      <td>0.078287</td>\n",
              "      <td>0.0</td>\n",
              "      <td>0.402122</td>\n",
              "    </tr>\n",
              "  </tbody>\n",
              "</table>\n",
              "<p>215 rows × 9 columns</p>\n",
              "</div>"
            ],
            "text/plain": [
              "               carbs_per_100g  ...   badness\n",
              "ean                            ...          \n",
              "2000568100004        1.681053  ...  0.731116\n",
              "2000578400002        0.069780  ...  0.051123\n",
              "2000579100000        1.585899  ...  0.508061\n",
              "2378432700002        0.000000  ...  0.007023\n",
              "2386449400006        0.000000  ...  0.219557\n",
              "...                       ...  ...       ...\n",
              "8715035240308        0.348898  ...  0.066471\n",
              "8718885890464        0.031718  ...  0.067535\n",
              "8719200066069        0.209339  ...  0.230948\n",
              "8853662004020        1.681053  ...  0.161067\n",
              "9000332812662        2.220259  ...  0.402122\n",
              "\n",
              "[215 rows x 9 columns]"
            ]
          },
          "metadata": {
            "tags": []
          },
          "execution_count": 240
        }
      ]
    },
    {
      "cell_type": "code",
      "metadata": {
        "id": "4XOmsVF--Qbw",
        "colab_type": "code",
        "colab": {}
      },
      "source": [
        ""
      ],
      "execution_count": 0,
      "outputs": []
    },
    {
      "cell_type": "code",
      "metadata": {
        "id": "jhiuSsk8rKVw",
        "colab_type": "code",
        "colab": {
          "base_uri": "https://localhost:8080/",
          "height": 265
        },
        "outputId": "de8374ff-df2c-465d-b3d1-0fc2cba117e7"
      },
      "source": [
        "plt.scatter(Y, Y_pred)\n",
        "plt.show()"
      ],
      "execution_count": 151,
      "outputs": [
        {
          "output_type": "display_data",
          "data": {
            "image/png": "[encoded data removed]",
            "text/plain": [
              "<Figure size 432x288 with 1 Axes>"
            ]
          },
          "metadata": {
            "tags": []
          }
        }
      ]
    },
    {
      "cell_type": "code",
      "metadata": {
        "id": "NOmLpYNUra7t",
        "colab_type": "code",
        "colab": {
          "base_uri": "https://localhost:8080/",
          "height": 54
        },
        "outputId": "43476f29-41f7-4237-c85a-f6c85baba5de"
      },
      "source": [
        "linear_regressor.coef_"
      ],
      "execution_count": 68,
      "outputs": [
        {
          "output_type": "execute_result",
          "data": {
            "text/plain": [
              "array([-0.02446155, -0.05237166,  0.00639668, -0.01964951, -0.02230692,\n",
              "       -0.06780139,  0.        ])"
            ]
          },
          "metadata": {
            "tags": []
          },
          "execution_count": 68
        }
      ]
    },
    {
      "cell_type": "code",
      "metadata": {
        "id": "s2GTs4IZrBgD",
        "colab_type": "code",
        "colab": {
          "base_uri": "https://localhost:8080/",
          "height": 35
        },
        "outputId": "387c6215-6179-4c43-83be-ca56b260ae8e"
      },
      "source": [
        "linear_regressor.get_params"
      ],
      "execution_count": 59,
      "outputs": [
        {
          "output_type": "execute_result",
          "data": {
            "text/plain": [
              "<bound method BaseEstimator.get_params of LinearRegression(copy_X=True, fit_intercept=True, n_jobs=None, normalize=False)>"
            ]
          },
          "metadata": {
            "tags": []
          },
          "execution_count": 59
        }
      ]
    },
    {
      "cell_type": "code",
      "metadata": {
        "id": "gwKwOan0YjKj",
        "colab_type": "code",
        "outputId": "e7268d4a-fe4c-4840-b338-d90c81a5b8f0",
        "colab": {
          "base_uri": "https://localhost:8080/",
          "height": 54
        }
      },
      "source": [
        "ean = df['ean']\n",
        "df[ean == 6409620011122]['product_category']"
      ],
      "execution_count": 0,
      "outputs": [
        {
          "output_type": "execute_result",
          "data": {
            "text/plain": [
              "7638    1013\n",
              "Name: product_category, dtype: int64"
            ]
          },
          "metadata": {
            "tags": []
          },
          "execution_count": 173
        }
      ]
    },
    {
      "cell_type": "code",
      "metadata": {
        "id": "0NID7uDJisx6",
        "colab_type": "code",
        "colab": {}
      },
      "source": [
        "print len(df[badness > 0.6])"
      ],
      "execution_count": 0,
      "outputs": []
    },
    {
      "cell_type": "code",
      "metadata": {
        "id": "xwF4gCzTiYyJ",
        "colab_type": "code",
        "colab": {}
      },
      "source": [
        "#OutputTable(df[badness > 0.6])"
      ],
      "execution_count": 0,
      "outputs": []
    },
    {
      "cell_type": "code",
      "metadata": {
        "id": "zmJsQfBJgYEV",
        "colab_type": "code",
        "colab": {}
      },
      "source": [
        "df.count()"
      ],
      "execution_count": 0,
      "outputs": []
    },
    {
      "cell_type": "code",
      "metadata": {
        "id": "cqSJn8h5e5Zv",
        "colab_type": "code",
        "colab": {}
      },
      "source": [
        "df[df['carbs_per_100g'] > 30]"
      ],
      "execution_count": 0,
      "outputs": []
    },
    {
      "cell_type": "code",
      "metadata": {
        "id": "Vq1QUksSdNGE",
        "colab_type": "code",
        "colab": {}
      },
      "source": [
        "OutputTable(df[df['alk_vol'] < 1.0])"
      ],
      "execution_count": 0,
      "outputs": []
    },
    {
      "cell_type": "code",
      "metadata": {
        "id": "tQhJNcj_Zd0b",
        "colab_type": "code",
        "outputId": "177e9753-8c07-4fed-8c2e-7a00423b017b",
        "colab": {
          "base_uri": "https://localhost:8080/",
          "height": 328
        }
      },
      "source": [
        "from IPython.display import Image, HTML\n",
        "def path_to_image_html(path):\n",
        "    '''\n",
        "     This function essentially convert the image url to \n",
        "     '<img src=\"'+ path + '\"/>' format. And one can put any\n",
        "     formatting adjustments to control the height, aspect ratio, size etc.\n",
        "     within as in the below example. \n",
        "    '''\n",
        "    return '<img src=\"'+ path + '\" style=max-height:124px;\"/>'\n",
        "\n",
        "def OutputTable(df):\n",
        "  return HTML(df.to_html(escape=False ,formatters=dict(pic_url=path_to_image_html)))\n",
        "\n",
        "OutputTable(df[df['protein_per_100g'] > 95][['ean', 'pic_url', 'protein_per_100g']])"
      ],
      "execution_count": 95,
      "outputs": [
        {
          "output_type": "execute_result",
          "data": {
            "text/html": [
              "<table border=\"1\" class=\"dataframe\">\n",
              "  <thead>\n",
              "    <tr style=\"text-align: right;\">\n",
              "      <th></th>\n",
              "      <th>ean</th>\n",
              "      <th>pic_url</th>\n",
              "      <th>protein_per_100g</th>\n",
              "    </tr>\n",
              "  </thead>\n",
              "  <tbody>\n",
              "    <tr>\n",
              "      <th>12900</th>\n",
              "      <td>6413446014052</td>\n",
              "      <td><img src=\"https://k-file-storage-qa.imgix.net/f/k-ruoka/product/6413446014052\" style=max-height:124px;\"/></td>\n",
              "      <td>560.0</td>\n",
              "    </tr>\n",
              "    <tr>\n",
              "      <th>23973</th>\n",
              "      <td>8711327328099</td>\n",
              "      <td><img src=\"https://k-file-storage-qa.imgix.net/f/k-ruoka/product/8711327328099\" style=max-height:124px;\"/></td>\n",
              "      <td>100.0</td>\n",
              "    </tr>\n",
              "  </tbody>\n",
              "</table>"
            ],
            "text/plain": [
              "<IPython.core.display.HTML object>"
            ]
          },
          "metadata": {
            "tags": []
          },
          "execution_count": 95
        }
      ]
    },
    {
      "cell_type": "code",
      "metadata": {
        "id": "o-sqr0IOben9",
        "colab_type": "code",
        "outputId": "0f9f4137-f8af-4c4b-e67a-93a281b498e8",
        "colab": {
          "base_uri": "https://localhost:8080/",
          "height": 235
        }
      },
      "source": [
        "df.columns"
      ],
      "execution_count": 0,
      "outputs": [
        {
          "output_type": "execute_result",
          "data": {
            "text/plain": [
              "Index(['ean', 'total', 'easy0', 'easy1', 'easy2', 'qual0', 'qual1', 'qual2',\n",
              "       'cls0', 'cls1', 'cls2', 'cls3', 'cls4', 'co2', 'co2_rank', 'pic_url',\n",
              "       'alk_vol', 'berry_fruit_content', 'brand', 'carbs_per_100g', 'country',\n",
              "       'fat_per_100g', 'fat_percent', 'ingredients', 'kcal_per_100g',\n",
              "       'lactose_per_100g', 'manufacturer', 'meat_fish_content_percent',\n",
              "       'milk_fat_percent', 'monosaturated_fat_g', 'name', 'nutritional_fiber',\n",
              "       'polyunsaturated_fat_g', 'product_category', 'protein_per_100g',\n",
              "       'raw_per_100g', 'recycling_emblems', 'saison', 'salt_per_100',\n",
              "       'salt_percent', 'saturated_fat_per_100g', 'sugar_per_100',\n",
              "       'sugar_percent', 'unsaturated_fat_percent', 'vitamin_a_ug',\n",
              "       'vitamin_b12_ug', 'vitamin_b6_ug', 'vitamin_c_mg', 'weight'],\n",
              "      dtype='object')"
            ]
          },
          "metadata": {
            "tags": []
          },
          "execution_count": 143
        }
      ]
    },
    {
      "cell_type": "code",
      "metadata": {
        "id": "qPzBAh-BboJx",
        "colab_type": "code",
        "outputId": "b0a8a498-6b4e-4a66-ed5c-63b7dc65b95c",
        "colab": {
          "base_uri": "https://localhost:8080/",
          "height": 235
        }
      },
      "source": [
        "df['carbs_per_100g']"
      ],
      "execution_count": 0,
      "outputs": [
        {
          "output_type": "execute_result",
          "data": {
            "text/plain": [
              "0       NaN\n",
              "1       NaN\n",
              "2       NaN\n",
              "3       NaN\n",
              "4       NaN\n",
              "         ..\n",
              "25163   NaN\n",
              "25164   NaN\n",
              "25165   NaN\n",
              "25166   NaN\n",
              "25167   NaN\n",
              "Name: carbs_per_100g, Length: 25168, dtype: float64"
            ]
          },
          "metadata": {
            "tags": []
          },
          "execution_count": 154
        }
      ]
    },
    {
      "cell_type": "code",
      "metadata": {
        "id": "XrJQPGkKbcpH",
        "colab_type": "code",
        "outputId": "2b3f3dde-5a6a-47b0-c525-9960d34ef71c",
        "colab": {
          "base_uri": "https://localhost:8080/",
          "height": 48
        }
      },
      "source": [
        "OutputTable(df[df['carbs_per_100g'] > 0][['ean', 'pic_url', 'carbs_per_100g']])"
      ],
      "execution_count": 0,
      "outputs": [
        {
          "output_type": "execute_result",
          "data": {
            "text/html": [
              "<table border=\"1\" class=\"dataframe\">\n",
              "  <thead>\n",
              "    <tr style=\"text-align: right;\">\n",
              "      <th></th>\n",
              "      <th>ean</th>\n",
              "      <th>pic_url</th>\n",
              "      <th>carbs_per_100g</th>\n",
              "    </tr>\n",
              "  </thead>\n",
              "  <tbody>\n",
              "  </tbody>\n",
              "</table>"
            ],
            "text/plain": [
              "<IPython.core.display.HTML object>"
            ]
          },
          "metadata": {
            "tags": []
          },
          "execution_count": 153
        }
      ]
    },
    {
      "cell_type": "code",
      "metadata": {
        "id": "fS76MyZ3Y_G7",
        "colab_type": "code",
        "outputId": "3f7b163e-b1a6-4a89-8fa5-b3f4acbd4112",
        "colab": {
          "base_uri": "https://localhost:8080/",
          "height": 363
        }
      },
      "source": [
        "df[df['product_category'] == 1013]['pic_url']"
      ],
      "execution_count": 0,
      "outputs": [
        {
          "output_type": "execute_result",
          "data": {
            "text/plain": [
              "5       https://k-file-storage-qa.imgix.net/f/k-ruoka/...\n",
              "7       https://k-file-storage-qa.imgix.net/f/k-ruoka/...\n",
              "10      https://k-file-storage-qa.imgix.net/f/k-ruoka/...\n",
              "400     https://k-file-storage-qa.imgix.net/f/k-ruoka/...\n",
              "505     https://k-file-storage-qa.imgix.net/f/k-ruoka/...\n",
              "506     https://k-file-storage-qa.imgix.net/f/k-ruoka/...\n",
              "600     https://k-file-storage-qa.imgix.net/f/k-ruoka/...\n",
              "5075    https://k-file-storage-qa.imgix.net/f/k-ruoka/...\n",
              "5590    https://k-file-storage-qa.imgix.net/f/k-ruoka/...\n",
              "5597    https://k-file-storage-qa.imgix.net/f/k-ruoka/...\n",
              "7051    https://k-file-storage-qa.imgix.net/f/k-ruoka/...\n",
              "7374    https://k-file-storage-qa.imgix.net/f/k-ruoka/...\n",
              "7568    https://k-file-storage-qa.imgix.net/f/k-ruoka/...\n",
              "7609    https://k-file-storage-qa.imgix.net/f/k-ruoka/...\n",
              "7634    https://k-file-storage-qa.imgix.net/f/k-ruoka/...\n",
              "7635    https://k-file-storage-qa.imgix.net/f/k-ruoka/...\n",
              "7636    https://k-file-storage-qa.imgix.net/f/k-ruoka/...\n",
              "7638    https://k-file-storage-qa.imgix.net/f/k-ruoka/...\n",
              "Name: pic_url, dtype: object"
            ]
          },
          "metadata": {
            "tags": []
          },
          "execution_count": 132
        }
      ]
    },
    {
      "cell_type": "code",
      "metadata": {
        "id": "2urJA1tpWFuD",
        "colab_type": "code",
        "outputId": "9cb93596-6384-4fdd-e27c-fcc9d089e661",
        "colab": {
          "base_uri": "https://localhost:8080/",
          "height": 235
        }
      },
      "source": [
        "df['pic_url']"
      ],
      "execution_count": 0,
      "outputs": [
        {
          "output_type": "execute_result",
          "data": {
            "text/plain": [
              "0        https://k-file-storage-qa.imgix.net/f/k-ruoka/...\n",
              "1        https://k-file-storage-qa.imgix.net/f/k-ruoka/...\n",
              "2        https://k-file-storage-qa.imgix.net/f/k-ruoka/...\n",
              "3        https://k-file-storage-qa.imgix.net/f/k-ruoka/...\n",
              "4        https://k-file-storage-qa.imgix.net/f/k-ruoka/...\n",
              "                               ...                        \n",
              "25163                                                  NaN\n",
              "25164                                                  NaN\n",
              "25165                                                  NaN\n",
              "25166                                                  NaN\n",
              "25167    https://k-file-storage-qa.imgix.net/f/k-ruoka/...\n",
              "Name: pic_url, Length: 25168, dtype: object"
            ]
          },
          "metadata": {
            "tags": []
          },
          "execution_count": 122
        }
      ]
    },
    {
      "cell_type": "code",
      "metadata": {
        "id": "maNfGj0ksK2l",
        "colab_type": "code",
        "colab": {}
      },
      "source": [
        "easy0_frac = df['easy0'] / df['total']\n",
        "easy2_frac = df['easy2'] / df['total']\n",
        "qual0_frac = df['qual0'] / df['total']\n",
        "qual2_frac = df['qual2'] / df['total']"
      ],
      "execution_count": 0,
      "outputs": []
    },
    {
      "cell_type": "code",
      "metadata": {
        "id": "9N3fnxfkp1Af",
        "colab_type": "code",
        "outputId": "d0ff771b-0f01-42f5-d4f6-1d1034a1ac5e",
        "colab": {
          "base_uri": "https://localhost:8080/",
          "height": 35
        }
      },
      "source": [
        "min(df[df['co2'] > 40]['co2_rank'])"
      ],
      "execution_count": 0,
      "outputs": [
        {
          "output_type": "execute_result",
          "data": {
            "text/plain": [
              "0.8945486331849968"
            ]
          },
          "metadata": {
            "tags": []
          },
          "execution_count": 53
        }
      ]
    },
    {
      "cell_type": "code",
      "metadata": {
        "id": "2dTGe5nDp9-q",
        "colab_type": "code",
        "outputId": "4e9f6494-f27c-4e7a-ccb8-2afef774dd54",
        "colab": {
          "base_uri": "https://localhost:8080/",
          "height": 526
        }
      },
      "source": [
        "t = 0.9\n",
        "df[df['co2_rank'] >= t][df['co2_rank'] <= t + 0.001]['ean']"
      ],
      "execution_count": 0,
      "outputs": [
        {
          "output_type": "stream",
          "text": [
            "/usr/local/lib/python3.6/dist-packages/ipykernel_launcher.py:2: UserWarning: Boolean Series key will be reindexed to match DataFrame index.\n",
            "  \n"
          ],
          "name": "stderr"
        },
        {
          "output_type": "execute_result",
          "data": {
            "text/plain": [
              "1214     3600541895928\n",
              "1853     4008429087912\n",
              "1917     4009427021779\n",
              "2570     5000171057440\n",
              "2571     5000171058898\n",
              "2572     5000171058904\n",
              "2660     5010029201918\n",
              "3047     5038862230896\n",
              "3049     5038862231831\n",
              "3051     5038862235334\n",
              "3053     5038862235860\n",
              "3054     5038862236928\n",
              "3055     5038862237192\n",
              "6887     6408790001971\n",
              "6888     6408790002756\n",
              "9258     6410405118202\n",
              "13710    6414504759014\n",
              "18038    6430053731479\n",
              "18039    6430053731486\n",
              "18040    6430053731554\n",
              "19636    7035380000053\n",
              "19637    7035380000060\n",
              "21840    7332531053914\n",
              "21841    7332531053945\n",
              "21856    7332531067805\n",
              "Name: ean, dtype: int64"
            ]
          },
          "metadata": {
            "tags": []
          },
          "execution_count": 98
        }
      ]
    },
    {
      "cell_type": "code",
      "metadata": {
        "id": "1Zfy6WG_ppmR",
        "colab_type": "code",
        "outputId": "db9c2f38-8c6e-4ed3-ddbf-89fb0aab2701",
        "colab": {
          "base_uri": "https://localhost:8080/",
          "height": 235
        }
      },
      "source": [
        "df[df['co2'] > 100]['country']"
      ],
      "execution_count": 0,
      "outputs": [
        {
          "output_type": "execute_result",
          "data": {
            "text/plain": [
              "0        PL\n",
              "1        PL\n",
              "2        US\n",
              "107      IL\n",
              "122      US\n",
              "         ..\n",
              "25148    AU\n",
              "25149    AU\n",
              "25153    NZ\n",
              "25155    NZ\n",
              "25156    NZ\n",
              "Name: country, Length: 757, dtype: object"
            ]
          },
          "metadata": {
            "tags": []
          },
          "execution_count": 50
        }
      ]
    },
    {
      "cell_type": "code",
      "metadata": {
        "id": "gOwAekt5pK0m",
        "colab_type": "code",
        "outputId": "580bfd28-048a-437a-9077-3d20ed05ffa1",
        "colab": {
          "base_uri": "https://localhost:8080/",
          "height": 374
        }
      },
      "source": [
        "plt.figure()\n",
        "plt.hist(df[df['co2'] < 40]['co2'])"
      ],
      "execution_count": 0,
      "outputs": [
        {
          "output_type": "execute_result",
          "data": {
            "text/plain": [
              "(array([13245.,  2984.,  1457.,  1114.,   878.,   880.,   596.,   613.,\n",
              "          447.,   300.]),\n",
              " array([4.54998915e-03, 3.99863004e+00, 7.99271009e+00, 1.19867901e+01,\n",
              "        1.59808702e+01, 1.99749502e+01, 2.39690303e+01, 2.79631103e+01,\n",
              "        3.19571904e+01, 3.59512704e+01, 3.99453505e+01]),\n",
              " <a list of 10 Patch objects>)"
            ]
          },
          "metadata": {
            "tags": []
          },
          "execution_count": 48
        },
        {
          "output_type": "display_data",
          "data": {
            "image/png": "[encoded data removed]",
            "text/plain": [
              "<Figure size 432x288 with 1 Axes>"
            ]
          },
          "metadata": {
            "tags": []
          }
        }
      ]
    },
    {
      "cell_type": "code",
      "metadata": {
        "id": "SNKE_wNt4am3",
        "colab_type": "code",
        "colab": {}
      },
      "source": [
        "for c in df.columns:\n",
        "  if c == 'total' or c == 'ean': continue\n",
        "  df[c] = df[c] / df['total']"
      ],
      "execution_count": 0,
      "outputs": []
    },
    {
      "cell_type": "code",
      "metadata": {
        "id": "V5O-zhpzIcfj",
        "colab_type": "code",
        "outputId": "c3af2a3e-664f-4703-b183-c4ee7b8bbfc7",
        "colab": {
          "base_uri": "https://localhost:8080/",
          "height": 54
        }
      },
      "source": [
        "df[df['ean'] == 2000818700008]['product_category']"
      ],
      "execution_count": 0,
      "outputs": [
        {
          "output_type": "execute_result",
          "data": {
            "text/plain": [
              "418    1500\n",
              "Name: product_category, dtype: int64"
            ]
          },
          "metadata": {
            "tags": []
          },
          "execution_count": 33
        }
      ]
    },
    {
      "cell_type": "code",
      "metadata": {
        "id": "5HrPdT2JIv-K",
        "colab_type": "code",
        "outputId": "d49485c3-0bbb-4c03-cf78-3bdb3c386f74",
        "colab": {
          "base_uri": "https://localhost:8080/",
          "height": 35
        }
      },
      "source": [
        "print(len(category_products[1500]))"
      ],
      "execution_count": 0,
      "outputs": [
        {
          "output_type": "stream",
          "text": [
            "6\n"
          ],
          "name": "stdout"
        }
      ]
    },
    {
      "cell_type": "code",
      "metadata": {
        "id": "Uw5V_In3JdIL",
        "colab_type": "code",
        "outputId": "df741015-5460-42dc-fcc7-024bdfed6ba8",
        "colab": {
          "base_uri": "https://localhost:8080/",
          "height": 126
        }
      },
      "source": [
        "category_products[1500]"
      ],
      "execution_count": 0,
      "outputs": [
        {
          "output_type": "execute_result",
          "data": {
            "text/plain": [
              "[2000503600002,\n",
              " 2000504400007,\n",
              " 2000509600006,\n",
              " 2000531100000,\n",
              " 2000686300003,\n",
              " 2000818700008]"
            ]
          },
          "metadata": {
            "tags": []
          },
          "execution_count": 35
        }
      ]
    },
    {
      "cell_type": "code",
      "metadata": {
        "id": "G-aC0okI5CyP",
        "colab_type": "code",
        "outputId": "33622a2f-d645-4617-e34a-5e42a00e1d41",
        "colab": {
          "base_uri": "https://localhost:8080/",
          "height": 438
        }
      },
      "source": [
        "df.corr()"
      ],
      "execution_count": 0,
      "outputs": [
        {
          "output_type": "execute_result",
          "data": {
            "text/html": [
              "<div>\n",
              "<style scoped>\n",
              "    .dataframe tbody tr th:only-of-type {\n",
              "        vertical-align: middle;\n",
              "    }\n",
              "\n",
              "    .dataframe tbody tr th {\n",
              "        vertical-align: top;\n",
              "    }\n",
              "\n",
              "    .dataframe thead th {\n",
              "        text-align: right;\n",
              "    }\n",
              "</style>\n",
              "<table border=\"1\" class=\"dataframe\">\n",
              "  <thead>\n",
              "    <tr style=\"text-align: right;\">\n",
              "      <th></th>\n",
              "      <th>ean</th>\n",
              "      <th>total</th>\n",
              "      <th>easy0</th>\n",
              "      <th>easy1</th>\n",
              "      <th>easy2</th>\n",
              "      <th>qual0</th>\n",
              "      <th>qual1</th>\n",
              "      <th>qual2</th>\n",
              "      <th>cls0</th>\n",
              "      <th>cls1</th>\n",
              "      <th>cls2</th>\n",
              "      <th>cls3</th>\n",
              "      <th>cls4</th>\n",
              "    </tr>\n",
              "  </thead>\n",
              "  <tbody>\n",
              "    <tr>\n",
              "      <th>ean</th>\n",
              "      <td>1.000000</td>\n",
              "      <td>-0.020614</td>\n",
              "      <td>-0.036919</td>\n",
              "      <td>0.043317</td>\n",
              "      <td>0.009181</td>\n",
              "      <td>0.041991</td>\n",
              "      <td>0.038799</td>\n",
              "      <td>-0.055976</td>\n",
              "      <td>0.046993</td>\n",
              "      <td>-0.020536</td>\n",
              "      <td>-0.008898</td>\n",
              "      <td>0.019681</td>\n",
              "      <td>-0.030972</td>\n",
              "    </tr>\n",
              "    <tr>\n",
              "      <th>total</th>\n",
              "      <td>-0.020614</td>\n",
              "      <td>1.000000</td>\n",
              "      <td>-0.036093</td>\n",
              "      <td>0.007671</td>\n",
              "      <td>0.031080</td>\n",
              "      <td>0.095780</td>\n",
              "      <td>-0.006509</td>\n",
              "      <td>-0.078974</td>\n",
              "      <td>-0.060621</td>\n",
              "      <td>-0.083128</td>\n",
              "      <td>0.037316</td>\n",
              "      <td>0.059986</td>\n",
              "      <td>0.088345</td>\n",
              "    </tr>\n",
              "    <tr>\n",
              "      <th>easy0</th>\n",
              "      <td>-0.036919</td>\n",
              "      <td>-0.036093</td>\n",
              "      <td>1.000000</td>\n",
              "      <td>-0.314412</td>\n",
              "      <td>-0.796164</td>\n",
              "      <td>-0.536145</td>\n",
              "      <td>-0.309481</td>\n",
              "      <td>0.619402</td>\n",
              "      <td>0.020721</td>\n",
              "      <td>0.212009</td>\n",
              "      <td>0.288946</td>\n",
              "      <td>-0.361557</td>\n",
              "      <td>-0.174897</td>\n",
              "    </tr>\n",
              "    <tr>\n",
              "      <th>easy1</th>\n",
              "      <td>0.043317</td>\n",
              "      <td>0.007671</td>\n",
              "      <td>-0.314412</td>\n",
              "      <td>1.000000</td>\n",
              "      <td>-0.324072</td>\n",
              "      <td>0.185566</td>\n",
              "      <td>0.112988</td>\n",
              "      <td>-0.217393</td>\n",
              "      <td>0.260669</td>\n",
              "      <td>-0.174785</td>\n",
              "      <td>0.090342</td>\n",
              "      <td>0.078171</td>\n",
              "      <td>-0.161407</td>\n",
              "    </tr>\n",
              "    <tr>\n",
              "      <th>easy2</th>\n",
              "      <td>0.009181</td>\n",
              "      <td>0.031080</td>\n",
              "      <td>-0.796164</td>\n",
              "      <td>-0.324072</td>\n",
              "      <td>1.000000</td>\n",
              "      <td>0.416026</td>\n",
              "      <td>0.236401</td>\n",
              "      <td>-0.478711</td>\n",
              "      <td>-0.186802</td>\n",
              "      <td>-0.099874</td>\n",
              "      <td>-0.345541</td>\n",
              "      <td>0.310491</td>\n",
              "      <td>0.277178</td>\n",
              "    </tr>\n",
              "    <tr>\n",
              "      <th>qual0</th>\n",
              "      <td>0.041991</td>\n",
              "      <td>0.095780</td>\n",
              "      <td>-0.536145</td>\n",
              "      <td>0.185566</td>\n",
              "      <td>0.416026</td>\n",
              "      <td>1.000000</td>\n",
              "      <td>-0.001505</td>\n",
              "      <td>-0.858603</td>\n",
              "      <td>0.164414</td>\n",
              "      <td>-0.594328</td>\n",
              "      <td>0.055757</td>\n",
              "      <td>0.499822</td>\n",
              "      <td>0.125646</td>\n",
              "    </tr>\n",
              "    <tr>\n",
              "      <th>qual1</th>\n",
              "      <td>0.038799</td>\n",
              "      <td>-0.006509</td>\n",
              "      <td>-0.309481</td>\n",
              "      <td>0.112988</td>\n",
              "      <td>0.236401</td>\n",
              "      <td>-0.001505</td>\n",
              "      <td>1.000000</td>\n",
              "      <td>-0.511349</td>\n",
              "      <td>-0.074057</td>\n",
              "      <td>-0.295108</td>\n",
              "      <td>0.020895</td>\n",
              "      <td>0.240389</td>\n",
              "      <td>0.231143</td>\n",
              "    </tr>\n",
              "    <tr>\n",
              "      <th>qual2</th>\n",
              "      <td>-0.055976</td>\n",
              "      <td>-0.078974</td>\n",
              "      <td>0.619402</td>\n",
              "      <td>-0.217393</td>\n",
              "      <td>-0.478711</td>\n",
              "      <td>-0.858603</td>\n",
              "      <td>-0.511349</td>\n",
              "      <td>1.000000</td>\n",
              "      <td>-0.103329</td>\n",
              "      <td>0.662035</td>\n",
              "      <td>-0.058628</td>\n",
              "      <td>-0.552768</td>\n",
              "      <td>-0.226470</td>\n",
              "    </tr>\n",
              "    <tr>\n",
              "      <th>cls0</th>\n",
              "      <td>0.046993</td>\n",
              "      <td>-0.060621</td>\n",
              "      <td>0.020721</td>\n",
              "      <td>0.260669</td>\n",
              "      <td>-0.186802</td>\n",
              "      <td>0.164414</td>\n",
              "      <td>-0.074057</td>\n",
              "      <td>-0.103329</td>\n",
              "      <td>1.000000</td>\n",
              "      <td>0.002133</td>\n",
              "      <td>-0.109249</td>\n",
              "      <td>-0.249629</td>\n",
              "      <td>-0.658501</td>\n",
              "    </tr>\n",
              "    <tr>\n",
              "      <th>cls1</th>\n",
              "      <td>-0.020536</td>\n",
              "      <td>-0.083128</td>\n",
              "      <td>0.212009</td>\n",
              "      <td>-0.174785</td>\n",
              "      <td>-0.099874</td>\n",
              "      <td>-0.594328</td>\n",
              "      <td>-0.295108</td>\n",
              "      <td>0.662035</td>\n",
              "      <td>0.002133</td>\n",
              "      <td>1.000000</td>\n",
              "      <td>-0.367273</td>\n",
              "      <td>-0.678072</td>\n",
              "      <td>-0.445346</td>\n",
              "    </tr>\n",
              "    <tr>\n",
              "      <th>cls2</th>\n",
              "      <td>-0.008898</td>\n",
              "      <td>0.037316</td>\n",
              "      <td>0.288946</td>\n",
              "      <td>0.090342</td>\n",
              "      <td>-0.345541</td>\n",
              "      <td>0.055757</td>\n",
              "      <td>0.020895</td>\n",
              "      <td>-0.058628</td>\n",
              "      <td>-0.109249</td>\n",
              "      <td>-0.367273</td>\n",
              "      <td>1.000000</td>\n",
              "      <td>-0.133259</td>\n",
              "      <td>-0.005955</td>\n",
              "    </tr>\n",
              "    <tr>\n",
              "      <th>cls3</th>\n",
              "      <td>0.019681</td>\n",
              "      <td>0.059986</td>\n",
              "      <td>-0.361557</td>\n",
              "      <td>0.078171</td>\n",
              "      <td>0.310491</td>\n",
              "      <td>0.499822</td>\n",
              "      <td>0.240389</td>\n",
              "      <td>-0.552768</td>\n",
              "      <td>-0.249629</td>\n",
              "      <td>-0.678072</td>\n",
              "      <td>-0.133259</td>\n",
              "      <td>1.000000</td>\n",
              "      <td>0.288964</td>\n",
              "    </tr>\n",
              "    <tr>\n",
              "      <th>cls4</th>\n",
              "      <td>-0.030972</td>\n",
              "      <td>0.088345</td>\n",
              "      <td>-0.174897</td>\n",
              "      <td>-0.161407</td>\n",
              "      <td>0.277178</td>\n",
              "      <td>0.125646</td>\n",
              "      <td>0.231143</td>\n",
              "      <td>-0.226470</td>\n",
              "      <td>-0.658501</td>\n",
              "      <td>-0.445346</td>\n",
              "      <td>-0.005955</td>\n",
              "      <td>0.288964</td>\n",
              "      <td>1.000000</td>\n",
              "    </tr>\n",
              "  </tbody>\n",
              "</table>\n",
              "</div>"
            ],
            "text/plain": [
              "            ean     total     easy0  ...      cls2      cls3      cls4\n",
              "ean    1.000000 -0.020614 -0.036919  ... -0.008898  0.019681 -0.030972\n",
              "total -0.020614  1.000000 -0.036093  ...  0.037316  0.059986  0.088345\n",
              "easy0 -0.036919 -0.036093  1.000000  ...  0.288946 -0.361557 -0.174897\n",
              "easy1  0.043317  0.007671 -0.314412  ...  0.090342  0.078171 -0.161407\n",
              "easy2  0.009181  0.031080 -0.796164  ... -0.345541  0.310491  0.277178\n",
              "qual0  0.041991  0.095780 -0.536145  ...  0.055757  0.499822  0.125646\n",
              "qual1  0.038799 -0.006509 -0.309481  ...  0.020895  0.240389  0.231143\n",
              "qual2 -0.055976 -0.078974  0.619402  ... -0.058628 -0.552768 -0.226470\n",
              "cls0   0.046993 -0.060621  0.020721  ... -0.109249 -0.249629 -0.658501\n",
              "cls1  -0.020536 -0.083128  0.212009  ... -0.367273 -0.678072 -0.445346\n",
              "cls2  -0.008898  0.037316  0.288946  ...  1.000000 -0.133259 -0.005955\n",
              "cls3   0.019681  0.059986 -0.361557  ... -0.133259  1.000000  0.288964\n",
              "cls4  -0.030972  0.088345 -0.174897  ... -0.005955  0.288964  1.000000\n",
              "\n",
              "[13 rows x 13 columns]"
            ]
          },
          "metadata": {
            "tags": []
          },
          "execution_count": 97
        }
      ]
    },
    {
      "cell_type": "code",
      "metadata": {
        "id": "7V0L5Daq5P1Z",
        "colab_type": "code",
        "outputId": "b9ee4a1b-be0e-4cd9-bc99-6a300c438c19",
        "colab": {
          "base_uri": "https://localhost:8080/",
          "height": 505
        }
      },
      "source": [
        "badness = df['qual0'] * df['easy2']\n",
        "df[badness > 0.4][df['total'] > 5000]"
      ],
      "execution_count": 0,
      "outputs": [
        {
          "output_type": "stream",
          "text": [
            "/usr/local/lib/python3.6/dist-packages/ipykernel_launcher.py:2: UserWarning: Boolean Series key will be reindexed to match DataFrame index.\n",
            "  \n"
          ],
          "name": "stderr"
        },
        {
          "output_type": "execute_result",
          "data": {
            "text/html": [
              "<div>\n",
              "<style scoped>\n",
              "    .dataframe tbody tr th:only-of-type {\n",
              "        vertical-align: middle;\n",
              "    }\n",
              "\n",
              "    .dataframe tbody tr th {\n",
              "        vertical-align: top;\n",
              "    }\n",
              "\n",
              "    .dataframe thead th {\n",
              "        text-align: right;\n",
              "    }\n",
              "</style>\n",
              "<table border=\"1\" class=\"dataframe\">\n",
              "  <thead>\n",
              "    <tr style=\"text-align: right;\">\n",
              "      <th></th>\n",
              "      <th>ean</th>\n",
              "      <th>total</th>\n",
              "      <th>easy0</th>\n",
              "      <th>easy1</th>\n",
              "      <th>easy2</th>\n",
              "      <th>qual0</th>\n",
              "      <th>qual1</th>\n",
              "      <th>qual2</th>\n",
              "      <th>cls0</th>\n",
              "      <th>cls1</th>\n",
              "      <th>cls2</th>\n",
              "      <th>cls3</th>\n",
              "      <th>cls4</th>\n",
              "    </tr>\n",
              "  </thead>\n",
              "  <tbody>\n",
              "    <tr>\n",
              "      <th>5671</th>\n",
              "      <td>6407860060184</td>\n",
              "      <td>11549.0</td>\n",
              "      <td>0.044073</td>\n",
              "      <td>0.235432</td>\n",
              "      <td>0.720495</td>\n",
              "      <td>0.650965</td>\n",
              "      <td>0.301758</td>\n",
              "      <td>0.047277</td>\n",
              "      <td>0.127024</td>\n",
              "      <td>0.082605</td>\n",
              "      <td>0.095593</td>\n",
              "      <td>0.385921</td>\n",
              "      <td>0.308858</td>\n",
              "    </tr>\n",
              "    <tr>\n",
              "      <th>5691</th>\n",
              "      <td>6407860061747</td>\n",
              "      <td>15563.0</td>\n",
              "      <td>0.096704</td>\n",
              "      <td>0.330977</td>\n",
              "      <td>0.572319</td>\n",
              "      <td>0.702692</td>\n",
              "      <td>0.256377</td>\n",
              "      <td>0.040930</td>\n",
              "      <td>0.168541</td>\n",
              "      <td>0.088608</td>\n",
              "      <td>0.169826</td>\n",
              "      <td>0.338559</td>\n",
              "      <td>0.234466</td>\n",
              "    </tr>\n",
              "    <tr>\n",
              "      <th>7246</th>\n",
              "      <td>6409100071592</td>\n",
              "      <td>5165.0</td>\n",
              "      <td>0.037754</td>\n",
              "      <td>0.228074</td>\n",
              "      <td>0.734172</td>\n",
              "      <td>0.588964</td>\n",
              "      <td>0.330106</td>\n",
              "      <td>0.080929</td>\n",
              "      <td>0.084802</td>\n",
              "      <td>0.071249</td>\n",
              "      <td>0.073766</td>\n",
              "      <td>0.386834</td>\n",
              "      <td>0.383349</td>\n",
              "    </tr>\n",
              "    <tr>\n",
              "      <th>8330</th>\n",
              "      <td>6410402012497</td>\n",
              "      <td>12959.0</td>\n",
              "      <td>0.046994</td>\n",
              "      <td>0.244849</td>\n",
              "      <td>0.708156</td>\n",
              "      <td>0.600123</td>\n",
              "      <td>0.330735</td>\n",
              "      <td>0.069141</td>\n",
              "      <td>0.142604</td>\n",
              "      <td>0.143067</td>\n",
              "      <td>0.108882</td>\n",
              "      <td>0.323636</td>\n",
              "      <td>0.281812</td>\n",
              "    </tr>\n",
              "    <tr>\n",
              "      <th>8573</th>\n",
              "      <td>6410405050458</td>\n",
              "      <td>16001.0</td>\n",
              "      <td>0.066933</td>\n",
              "      <td>0.350666</td>\n",
              "      <td>0.582401</td>\n",
              "      <td>0.755078</td>\n",
              "      <td>0.220799</td>\n",
              "      <td>0.024123</td>\n",
              "      <td>0.233923</td>\n",
              "      <td>0.077120</td>\n",
              "      <td>0.142991</td>\n",
              "      <td>0.389476</td>\n",
              "      <td>0.156490</td>\n",
              "    </tr>\n",
              "    <tr>\n",
              "      <th>8644</th>\n",
              "      <td>6410405057433</td>\n",
              "      <td>5899.0</td>\n",
              "      <td>0.079675</td>\n",
              "      <td>0.301237</td>\n",
              "      <td>0.619088</td>\n",
              "      <td>0.702492</td>\n",
              "      <td>0.265469</td>\n",
              "      <td>0.032039</td>\n",
              "      <td>0.207662</td>\n",
              "      <td>0.110527</td>\n",
              "      <td>0.188337</td>\n",
              "      <td>0.343109</td>\n",
              "      <td>0.150364</td>\n",
              "    </tr>\n",
              "    <tr>\n",
              "      <th>8766</th>\n",
              "      <td>6410405072863</td>\n",
              "      <td>14989.0</td>\n",
              "      <td>0.087331</td>\n",
              "      <td>0.362533</td>\n",
              "      <td>0.550137</td>\n",
              "      <td>0.735673</td>\n",
              "      <td>0.232971</td>\n",
              "      <td>0.031356</td>\n",
              "      <td>0.396491</td>\n",
              "      <td>0.073921</td>\n",
              "      <td>0.160384</td>\n",
              "      <td>0.285543</td>\n",
              "      <td>0.083661</td>\n",
              "    </tr>\n",
              "    <tr>\n",
              "      <th>8966</th>\n",
              "      <td>6410405093295</td>\n",
              "      <td>18837.0</td>\n",
              "      <td>0.051070</td>\n",
              "      <td>0.238148</td>\n",
              "      <td>0.710782</td>\n",
              "      <td>0.656262</td>\n",
              "      <td>0.293996</td>\n",
              "      <td>0.049743</td>\n",
              "      <td>0.160376</td>\n",
              "      <td>0.107501</td>\n",
              "      <td>0.093380</td>\n",
              "      <td>0.387323</td>\n",
              "      <td>0.251420</td>\n",
              "    </tr>\n",
              "    <tr>\n",
              "      <th>9563</th>\n",
              "      <td>6410405138187</td>\n",
              "      <td>24208.0</td>\n",
              "      <td>0.057212</td>\n",
              "      <td>0.278462</td>\n",
              "      <td>0.664326</td>\n",
              "      <td>0.635038</td>\n",
              "      <td>0.299488</td>\n",
              "      <td>0.065474</td>\n",
              "      <td>0.156312</td>\n",
              "      <td>0.156064</td>\n",
              "      <td>0.125041</td>\n",
              "      <td>0.314896</td>\n",
              "      <td>0.247687</td>\n",
              "    </tr>\n",
              "    <tr>\n",
              "      <th>10824</th>\n",
              "      <td>6410405208163</td>\n",
              "      <td>5235.0</td>\n",
              "      <td>0.110029</td>\n",
              "      <td>0.392741</td>\n",
              "      <td>0.497230</td>\n",
              "      <td>0.812034</td>\n",
              "      <td>0.154919</td>\n",
              "      <td>0.033047</td>\n",
              "      <td>0.289780</td>\n",
              "      <td>0.071824</td>\n",
              "      <td>0.225024</td>\n",
              "      <td>0.271633</td>\n",
              "      <td>0.141738</td>\n",
              "    </tr>\n",
              "    <tr>\n",
              "      <th>12350</th>\n",
              "      <td>6412000034567</td>\n",
              "      <td>5536.0</td>\n",
              "      <td>0.075867</td>\n",
              "      <td>0.305094</td>\n",
              "      <td>0.619039</td>\n",
              "      <td>0.668714</td>\n",
              "      <td>0.289740</td>\n",
              "      <td>0.041546</td>\n",
              "      <td>0.190029</td>\n",
              "      <td>0.089053</td>\n",
              "      <td>0.136380</td>\n",
              "      <td>0.405166</td>\n",
              "      <td>0.179371</td>\n",
              "    </tr>\n",
              "    <tr>\n",
              "      <th>12359</th>\n",
              "      <td>6412000034789</td>\n",
              "      <td>5343.0</td>\n",
              "      <td>0.074303</td>\n",
              "      <td>0.255474</td>\n",
              "      <td>0.670223</td>\n",
              "      <td>0.623620</td>\n",
              "      <td>0.315927</td>\n",
              "      <td>0.060453</td>\n",
              "      <td>0.152536</td>\n",
              "      <td>0.076923</td>\n",
              "      <td>0.085720</td>\n",
              "      <td>0.429534</td>\n",
              "      <td>0.255287</td>\n",
              "    </tr>\n",
              "    <tr>\n",
              "      <th>12390</th>\n",
              "      <td>6412000036134</td>\n",
              "      <td>7727.0</td>\n",
              "      <td>0.059532</td>\n",
              "      <td>0.271127</td>\n",
              "      <td>0.669341</td>\n",
              "      <td>0.608645</td>\n",
              "      <td>0.322764</td>\n",
              "      <td>0.068591</td>\n",
              "      <td>0.186748</td>\n",
              "      <td>0.132652</td>\n",
              "      <td>0.110263</td>\n",
              "      <td>0.355636</td>\n",
              "      <td>0.214702</td>\n",
              "    </tr>\n",
              "    <tr>\n",
              "      <th>13094</th>\n",
              "      <td>6413600014805</td>\n",
              "      <td>5495.0</td>\n",
              "      <td>0.145041</td>\n",
              "      <td>0.291174</td>\n",
              "      <td>0.563785</td>\n",
              "      <td>0.723567</td>\n",
              "      <td>0.236579</td>\n",
              "      <td>0.039854</td>\n",
              "      <td>0.335578</td>\n",
              "      <td>0.077343</td>\n",
              "      <td>0.074977</td>\n",
              "      <td>0.393631</td>\n",
              "      <td>0.118471</td>\n",
              "    </tr>\n",
              "  </tbody>\n",
              "</table>\n",
              "</div>"
            ],
            "text/plain": [
              "                 ean    total     easy0  ...      cls2      cls3      cls4\n",
              "5671   6407860060184  11549.0  0.044073  ...  0.095593  0.385921  0.308858\n",
              "5691   6407860061747  15563.0  0.096704  ...  0.169826  0.338559  0.234466\n",
              "7246   6409100071592   5165.0  0.037754  ...  0.073766  0.386834  0.383349\n",
              "8330   6410402012497  12959.0  0.046994  ...  0.108882  0.323636  0.281812\n",
              "8573   6410405050458  16001.0  0.066933  ...  0.142991  0.389476  0.156490\n",
              "8644   6410405057433   5899.0  0.079675  ...  0.188337  0.343109  0.150364\n",
              "8766   6410405072863  14989.0  0.087331  ...  0.160384  0.285543  0.083661\n",
              "8966   6410405093295  18837.0  0.051070  ...  0.093380  0.387323  0.251420\n",
              "9563   6410405138187  24208.0  0.057212  ...  0.125041  0.314896  0.247687\n",
              "10824  6410405208163   5235.0  0.110029  ...  0.225024  0.271633  0.141738\n",
              "12350  6412000034567   5536.0  0.075867  ...  0.136380  0.405166  0.179371\n",
              "12359  6412000034789   5343.0  0.074303  ...  0.085720  0.429534  0.255287\n",
              "12390  6412000036134   7727.0  0.059532  ...  0.110263  0.355636  0.214702\n",
              "13094  6413600014805   5495.0  0.145041  ...  0.074977  0.393631  0.118471\n",
              "\n",
              "[14 rows x 13 columns]"
            ]
          },
          "metadata": {
            "tags": []
          },
          "execution_count": 139
        }
      ]
    },
    {
      "cell_type": "code",
      "metadata": {
        "id": "fTmOkFkS69mq",
        "colab_type": "code",
        "outputId": "bce0e786-5e53-4f35-a3ab-0d9c999892ef",
        "colab": {
          "base_uri": "https://localhost:8080/",
          "height": 235
        }
      },
      "source": [
        "badness"
      ],
      "execution_count": 0,
      "outputs": [
        {
          "output_type": "execute_result",
          "data": {
            "text/plain": [
              "0        0.011180\n",
              "1        0.025070\n",
              "2        0.031565\n",
              "3        0.006929\n",
              "4        0.018255\n",
              "           ...   \n",
              "25163    0.100224\n",
              "25164    0.135300\n",
              "25165    0.101570\n",
              "25166    0.129538\n",
              "25167    0.063905\n",
              "Length: 25168, dtype: float64"
            ]
          },
          "metadata": {
            "tags": []
          },
          "execution_count": 105
        }
      ]
    },
    {
      "cell_type": "code",
      "metadata": {
        "id": "-QwaP6KGBZA1",
        "colab_type": "code",
        "outputId": "c1724e11-b3bc-4654-e8e5-3d1e1c14ef2c",
        "colab": {
          "base_uri": "https://localhost:8080/",
          "height": 35
        }
      },
      "source": [
        "import math\n",
        "math.pow(0.1 * 0.9 * 0.9, 1 / 3.0)"
      ],
      "execution_count": 0,
      "outputs": [
        {
          "output_type": "execute_result",
          "data": {
            "text/plain": [
              "0.4326748710922226"
            ]
          },
          "metadata": {
            "tags": []
          },
          "execution_count": 112
        }
      ]
    },
    {
      "cell_type": "code",
      "metadata": {
        "id": "zu3bjt4hBdyN",
        "colab_type": "code",
        "outputId": "065fec29-943d-4bc8-a147-30083ed0efe4",
        "colab": {
          "base_uri": "https://localhost:8080/",
          "height": 35
        }
      },
      "source": [
        "3 / (1/0.9 + 1/0.9 + 1/0.70)"
      ],
      "execution_count": 0,
      "outputs": [
        {
          "output_type": "execute_result",
          "data": {
            "text/plain": [
              "0.8217391304347825"
            ]
          },
          "metadata": {
            "tags": []
          },
          "execution_count": 118
        }
      ]
    },
    {
      "cell_type": "code",
      "metadata": {
        "id": "0N-MRQVtCBZI",
        "colab_type": "code",
        "outputId": "a2e3d591-7fa1-4cda-d40d-a7bb85da09eb",
        "colab": {
          "base_uri": "https://localhost:8080/",
          "height": 316
        }
      },
      "source": [
        "print(Sigmoid(0))"
      ],
      "execution_count": 0,
      "outputs": [
        {
          "output_type": "error",
          "ename": "NameError",
          "evalue": "ignored",
          "traceback": [
            "\u001b[0;31m---------------------------------------------------------------------------\u001b[0m",
            "\u001b[0;31mNameError\u001b[0m                                 Traceback (most recent call last)",
            "\u001b[0;32m<ipython-input-119-a747af48623d>\u001b[0m in \u001b[0;36m<module>\u001b[0;34m()\u001b[0m\n\u001b[1;32m      2\u001b[0m   \u001b[0;32mreturn\u001b[0m \u001b[0;36m1\u001b[0m\u001b[0;34m/\u001b[0m\u001b[0;34m(\u001b[0m\u001b[0;36m1\u001b[0m\u001b[0;34m+\u001b[0m\u001b[0mnp\u001b[0m\u001b[0;34m.\u001b[0m\u001b[0mexp\u001b[0m\u001b[0;34m(\u001b[0m\u001b[0;34m-\u001b[0m\u001b[0mx\u001b[0m\u001b[0;34m)\u001b[0m\u001b[0;34m)\u001b[0m\u001b[0;34m\u001b[0m\u001b[0;34m\u001b[0m\u001b[0m\n\u001b[1;32m      3\u001b[0m \u001b[0;34m\u001b[0m\u001b[0m\n\u001b[0;32m----> 4\u001b[0;31m \u001b[0mprint\u001b[0m\u001b[0;34m(\u001b[0m\u001b[0mSigmoid\u001b[0m\u001b[0;34m(\u001b[0m\u001b[0;36m0\u001b[0m\u001b[0;34m)\u001b[0m\u001b[0;34m)\u001b[0m\u001b[0;34m\u001b[0m\u001b[0;34m\u001b[0m\u001b[0m\n\u001b[0m",
            "\u001b[0;32m<ipython-input-119-a747af48623d>\u001b[0m in \u001b[0;36mSigmoid\u001b[0;34m(x)\u001b[0m\n\u001b[1;32m      1\u001b[0m \u001b[0;32mdef\u001b[0m \u001b[0mSigmoid\u001b[0m\u001b[0;34m(\u001b[0m\u001b[0mx\u001b[0m\u001b[0;34m)\u001b[0m\u001b[0;34m:\u001b[0m\u001b[0;34m\u001b[0m\u001b[0;34m\u001b[0m\u001b[0m\n\u001b[0;32m----> 2\u001b[0;31m   \u001b[0;32mreturn\u001b[0m \u001b[0;36m1\u001b[0m\u001b[0;34m/\u001b[0m\u001b[0;34m(\u001b[0m\u001b[0;36m1\u001b[0m\u001b[0;34m+\u001b[0m\u001b[0mnp\u001b[0m\u001b[0;34m.\u001b[0m\u001b[0mexp\u001b[0m\u001b[0;34m(\u001b[0m\u001b[0;34m-\u001b[0m\u001b[0mx\u001b[0m\u001b[0;34m)\u001b[0m\u001b[0;34m)\u001b[0m\u001b[0;34m\u001b[0m\u001b[0;34m\u001b[0m\u001b[0m\n\u001b[0m\u001b[1;32m      3\u001b[0m \u001b[0;34m\u001b[0m\u001b[0m\n\u001b[1;32m      4\u001b[0m \u001b[0mprint\u001b[0m\u001b[0;34m(\u001b[0m\u001b[0mSigmoid\u001b[0m\u001b[0;34m(\u001b[0m\u001b[0;36m0\u001b[0m\u001b[0;34m)\u001b[0m\u001b[0;34m)\u001b[0m\u001b[0;34m\u001b[0m\u001b[0;34m\u001b[0m\u001b[0m\n",
            "\u001b[0;31mNameError\u001b[0m: name 'np' is not defined"
          ]
        }
      ]
    },
    {
      "cell_type": "code",
      "metadata": {
        "id": "PbKTVpD7DXZI",
        "colab_type": "code",
        "outputId": "88fa4be8-efe6-4d0a-db1d-fce3ebd3042f",
        "colab": {
          "base_uri": "https://localhost:8080/",
          "height": 283
        }
      },
      "source": [
        "import numpy as np\n",
        "import matplotlib.pyplot as plt\n",
        "def Sigmoid(x):\n",
        "  return 1.0/(1+np.exp(-(x-0.75)*25))\n",
        "plt.figure()\n",
        "x = np.arange(0, 1, 0.01)\n",
        "plt.plot(x, Sigmoid(x))"
      ],
      "execution_count": 61,
      "outputs": [
        {
          "output_type": "execute_result",
          "data": {
            "text/plain": [
              "[<matplotlib.lines.Line2D at 0x7fd466227a20>]"
            ]
          },
          "metadata": {
            "tags": []
          },
          "execution_count": 61
        },
        {
          "output_type": "display_data",
          "data": {
            "image/png": "[encoded data removed]",
            "text/plain": [
              "<Figure size 432x288 with 1 Axes>"
            ]
          },
          "metadata": {
            "tags": []
          }
        }
      ]
    },
    {
      "cell_type": "code",
      "metadata": {
        "id": "1n8TUA8MDpLx",
        "colab_type": "code",
        "outputId": "2aa85517-a05c-4790-b339-35d428c837aa",
        "colab": {
          "base_uri": "https://localhost:8080/",
          "height": 695
        }
      },
      "source": [
        "import numpy as np\n",
        "import matplotlib.pyplot as plt\n",
        "def Sigmoid(x):\n",
        "  return 1.0 - 1.0/(1+np.exp(-(np.log(1 + x)-2.5)*2.5))\n",
        "plt.figure()\n",
        "x = np.arange(0, 50, 0.01)\n",
        "plt.hist(Sigmoid(df['co2']))\n",
        "tmp = Sigmoid(df['co2'])\n",
        "df[tmp >= 0.4][tmp <= 0.6][['ean', 'co2', 'country']]"
      ],
      "execution_count": 0,
      "outputs": [
        {
          "output_type": "stream",
          "text": [
            "/usr/local/lib/python3.6/dist-packages/ipykernel_launcher.py:9: UserWarning: Boolean Series key will be reindexed to match DataFrame index.\n",
            "  if __name__ == '__main__':\n"
          ],
          "name": "stderr"
        },
        {
          "output_type": "execute_result",
          "data": {
            "text/html": [
              "<div>\n",
              "<style scoped>\n",
              "    .dataframe tbody tr th:only-of-type {\n",
              "        vertical-align: middle;\n",
              "    }\n",
              "\n",
              "    .dataframe tbody tr th {\n",
              "        vertical-align: top;\n",
              "    }\n",
              "\n",
              "    .dataframe thead th {\n",
              "        text-align: right;\n",
              "    }\n",
              "</style>\n",
              "<table border=\"1\" class=\"dataframe\">\n",
              "  <thead>\n",
              "    <tr style=\"text-align: right;\">\n",
              "      <th></th>\n",
              "      <th>ean</th>\n",
              "      <th>co2</th>\n",
              "      <th>country</th>\n",
              "    </tr>\n",
              "  </thead>\n",
              "  <tbody>\n",
              "    <tr>\n",
              "      <th>96</th>\n",
              "      <td>2000485100002</td>\n",
              "      <td>9.487817</td>\n",
              "      <td>FR</td>\n",
              "    </tr>\n",
              "    <tr>\n",
              "      <th>97</th>\n",
              "      <td>2000485300006</td>\n",
              "      <td>9.487817</td>\n",
              "      <td>FR</td>\n",
              "    </tr>\n",
              "    <tr>\n",
              "      <th>221</th>\n",
              "      <td>2000560400003</td>\n",
              "      <td>9.512921</td>\n",
              "      <td>NL</td>\n",
              "    </tr>\n",
              "    <tr>\n",
              "      <th>369</th>\n",
              "      <td>2000652600007</td>\n",
              "      <td>10.839894</td>\n",
              "      <td>CZ</td>\n",
              "    </tr>\n",
              "    <tr>\n",
              "      <th>449</th>\n",
              "      <td>2000929700003</td>\n",
              "      <td>9.487817</td>\n",
              "      <td>FR</td>\n",
              "    </tr>\n",
              "    <tr>\n",
              "      <th>...</th>\n",
              "      <td>...</td>\n",
              "      <td>...</td>\n",
              "      <td>...</td>\n",
              "    </tr>\n",
              "    <tr>\n",
              "      <th>24977</th>\n",
              "      <td>8722700278917</td>\n",
              "      <td>11.299127</td>\n",
              "      <td>FR</td>\n",
              "    </tr>\n",
              "    <tr>\n",
              "      <th>24983</th>\n",
              "      <td>8722700696551</td>\n",
              "      <td>12.918329</td>\n",
              "      <td>PL</td>\n",
              "    </tr>\n",
              "    <tr>\n",
              "      <th>25093</th>\n",
              "      <td>9000295830772</td>\n",
              "      <td>13.136516</td>\n",
              "      <td>AT</td>\n",
              "    </tr>\n",
              "    <tr>\n",
              "      <th>25139</th>\n",
              "      <td>9012200020055</td>\n",
              "      <td>13.136516</td>\n",
              "      <td>AT</td>\n",
              "    </tr>\n",
              "    <tr>\n",
              "      <th>25142</th>\n",
              "      <td>9120008990699</td>\n",
              "      <td>13.136516</td>\n",
              "      <td>AT</td>\n",
              "    </tr>\n",
              "  </tbody>\n",
              "</table>\n",
              "<p>1183 rows × 3 columns</p>\n",
              "</div>"
            ],
            "text/plain": [
              "                 ean        co2 country\n",
              "96     2000485100002   9.487817      FR\n",
              "97     2000485300006   9.487817      FR\n",
              "221    2000560400003   9.512921      NL\n",
              "369    2000652600007  10.839894      CZ\n",
              "449    2000929700003   9.487817      FR\n",
              "...              ...        ...     ...\n",
              "24977  8722700278917  11.299127      FR\n",
              "24983  8722700696551  12.918329      PL\n",
              "25093  9000295830772  13.136516      AT\n",
              "25139  9012200020055  13.136516      AT\n",
              "25142  9120008990699  13.136516      AT\n",
              "\n",
              "[1183 rows x 3 columns]"
            ]
          },
          "metadata": {
            "tags": []
          },
          "execution_count": 119
        },
        {
          "output_type": "display_data",
          "data": {
            "image/png": "[encoded data removed]",
            "text/plain": [
              "<Figure size 432x288 with 1 Axes>"
            ]
          },
          "metadata": {
            "tags": []
          }
        }
      ]
    },
    {
      "cell_type": "code",
      "metadata": {
        "id": "WHEpHsrIqkwS",
        "colab_type": "code",
        "colab": {}
      },
      "source": [
        ""
      ],
      "execution_count": 0,
      "outputs": []
    }
  ]
}